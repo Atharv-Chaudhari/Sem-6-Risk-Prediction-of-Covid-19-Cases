{
 "cells": [
  {
   "cell_type": "markdown",
   "id": "loved-preview",
   "metadata": {
    "papermill": {
     "duration": 0.023071,
     "end_time": "2021-06-29T11:45:23.480633",
     "exception": false,
     "start_time": "2021-06-29T11:45:23.457562",
     "status": "completed"
    },
    "tags": []
   },
   "source": [
    "## Step 4: Data Modeling\n",
    "<br>\n",
    "\n",
    "> **By: Sana Shaikh & Omkar Patil**"
   ]
  },
  {
   "cell_type": "markdown",
   "id": "sensitive-spectrum",
   "metadata": {
    "papermill": {
     "duration": 0.021959,
     "end_time": "2021-06-29T11:45:23.524866",
     "exception": false,
     "start_time": "2021-06-29T11:45:23.502907",
     "status": "completed"
    },
    "tags": []
   },
   "source": [
    "### Data Loading"
   ]
  },
  {
   "cell_type": "code",
   "execution_count": 1,
   "id": "emotional-alexander",
   "metadata": {
    "execution": {
     "iopub.execute_input": "2021-06-29T11:45:23.574623Z",
     "iopub.status.busy": "2021-06-29T11:45:23.573305Z",
     "iopub.status.idle": "2021-06-29T11:45:23.583804Z",
     "shell.execute_reply": "2021-06-29T11:45:23.582994Z",
     "shell.execute_reply.started": "2021-06-27T15:00:31.560202Z"
    },
    "papermill": {
     "duration": 0.03685,
     "end_time": "2021-06-29T11:45:23.583978",
     "exception": false,
     "start_time": "2021-06-29T11:45:23.547128",
     "status": "completed"
    },
    "tags": []
   },
   "outputs": [],
   "source": [
    "import pandas as pd\n",
    "import numpy as np\n",
    "from matplotlib import pyplot as plt\n",
    "import warnings\n",
    "\n",
    "warnings.filterwarnings(\"ignore\")"
   ]
  },
  {
   "cell_type": "code",
   "execution_count": 2,
   "id": "pediatric-manner",
   "metadata": {
    "execution": {
     "iopub.execute_input": "2021-06-29T11:45:23.635700Z",
     "iopub.status.busy": "2021-06-29T11:45:23.634374Z",
     "iopub.status.idle": "2021-06-29T11:45:23.753981Z",
     "shell.execute_reply": "2021-06-29T11:45:23.754435Z",
     "shell.execute_reply.started": "2021-06-27T15:00:31.57391Z"
    },
    "papermill": {
     "duration": 0.148242,
     "end_time": "2021-06-29T11:45:23.754690",
     "exception": false,
     "start_time": "2021-06-29T11:45:23.606448",
     "status": "completed"
    },
    "tags": []
   },
   "outputs": [
    {
     "data": {
      "text/html": [
       "<div>\n",
       "<style scoped>\n",
       "    .dataframe tbody tr th:only-of-type {\n",
       "        vertical-align: middle;\n",
       "    }\n",
       "\n",
       "    .dataframe tbody tr th {\n",
       "        vertical-align: top;\n",
       "    }\n",
       "\n",
       "    .dataframe thead th {\n",
       "        text-align: right;\n",
       "    }\n",
       "</style>\n",
       "<table border=\"1\" class=\"dataframe\">\n",
       "  <thead>\n",
       "    <tr style=\"text-align: right;\">\n",
       "      <th></th>\n",
       "      <th>cough</th>\n",
       "      <th>fever</th>\n",
       "      <th>sore_throat</th>\n",
       "      <th>shortness_of_breath</th>\n",
       "      <th>head_ache</th>\n",
       "      <th>age_60_and_above</th>\n",
       "      <th>abroad</th>\n",
       "      <th>contact_with_covid_object</th>\n",
       "      <th>contact_with_covid_patient</th>\n",
       "      <th>corona_result</th>\n",
       "    </tr>\n",
       "  </thead>\n",
       "  <tbody>\n",
       "    <tr>\n",
       "      <th>0</th>\n",
       "      <td>0</td>\n",
       "      <td>0</td>\n",
       "      <td>0</td>\n",
       "      <td>0</td>\n",
       "      <td>0</td>\n",
       "      <td>0</td>\n",
       "      <td>0</td>\n",
       "      <td>1</td>\n",
       "      <td>0</td>\n",
       "      <td>0</td>\n",
       "    </tr>\n",
       "    <tr>\n",
       "      <th>1</th>\n",
       "      <td>0</td>\n",
       "      <td>1</td>\n",
       "      <td>0</td>\n",
       "      <td>0</td>\n",
       "      <td>0</td>\n",
       "      <td>0</td>\n",
       "      <td>0</td>\n",
       "      <td>1</td>\n",
       "      <td>0</td>\n",
       "      <td>0</td>\n",
       "    </tr>\n",
       "    <tr>\n",
       "      <th>2</th>\n",
       "      <td>0</td>\n",
       "      <td>0</td>\n",
       "      <td>0</td>\n",
       "      <td>0</td>\n",
       "      <td>0</td>\n",
       "      <td>1</td>\n",
       "      <td>0</td>\n",
       "      <td>1</td>\n",
       "      <td>0</td>\n",
       "      <td>0</td>\n",
       "    </tr>\n",
       "    <tr>\n",
       "      <th>3</th>\n",
       "      <td>0</td>\n",
       "      <td>1</td>\n",
       "      <td>0</td>\n",
       "      <td>0</td>\n",
       "      <td>0</td>\n",
       "      <td>0</td>\n",
       "      <td>0</td>\n",
       "      <td>0</td>\n",
       "      <td>1</td>\n",
       "      <td>0</td>\n",
       "    </tr>\n",
       "    <tr>\n",
       "      <th>4</th>\n",
       "      <td>1</td>\n",
       "      <td>0</td>\n",
       "      <td>0</td>\n",
       "      <td>0</td>\n",
       "      <td>0</td>\n",
       "      <td>0</td>\n",
       "      <td>0</td>\n",
       "      <td>1</td>\n",
       "      <td>0</td>\n",
       "      <td>0</td>\n",
       "    </tr>\n",
       "  </tbody>\n",
       "</table>\n",
       "</div>"
      ],
      "text/plain": [
       "   cough  fever  sore_throat  shortness_of_breath  head_ache  \\\n",
       "0      0      0            0                    0          0   \n",
       "1      0      1            0                    0          0   \n",
       "2      0      0            0                    0          0   \n",
       "3      0      1            0                    0          0   \n",
       "4      1      0            0                    0          0   \n",
       "\n",
       "   age_60_and_above  abroad  contact_with_covid_object  \\\n",
       "0                 0       0                          1   \n",
       "1                 0       0                          1   \n",
       "2                 1       0                          1   \n",
       "3                 0       0                          0   \n",
       "4                 0       0                          1   \n",
       "\n",
       "   contact_with_covid_patient  corona_result  \n",
       "0                           0              0  \n",
       "1                           0              0  \n",
       "2                           0              0  \n",
       "3                           1              0  \n",
       "4                           0              0  "
      ]
     },
     "execution_count": 2,
     "metadata": {},
     "output_type": "execute_result"
    }
   ],
   "source": [
    "model_data = pd.read_csv(\"/kaggle/input/mp-feature-selection/fs_data.csv\")\n",
    "model_data.head()"
   ]
  },
  {
   "cell_type": "code",
   "execution_count": 3,
   "id": "intelligent-convenience",
   "metadata": {
    "execution": {
     "iopub.execute_input": "2021-06-29T11:45:23.809391Z",
     "iopub.status.busy": "2021-06-29T11:45:23.808362Z",
     "iopub.status.idle": "2021-06-29T11:45:23.829137Z",
     "shell.execute_reply": "2021-06-29T11:45:23.829622Z",
     "shell.execute_reply.started": "2021-06-27T15:00:31.643158Z"
    },
    "papermill": {
     "duration": 0.050556,
     "end_time": "2021-06-29T11:45:23.829840",
     "exception": false,
     "start_time": "2021-06-29T11:45:23.779284",
     "status": "completed"
    },
    "tags": []
   },
   "outputs": [
    {
     "name": "stdout",
     "output_type": "stream",
     "text": [
      "<class 'pandas.core.frame.DataFrame'>\n",
      "RangeIndex: 42916 entries, 0 to 42915\n",
      "Data columns (total 10 columns):\n",
      " #   Column                      Non-Null Count  Dtype\n",
      "---  ------                      --------------  -----\n",
      " 0   cough                       42916 non-null  int64\n",
      " 1   fever                       42916 non-null  int64\n",
      " 2   sore_throat                 42916 non-null  int64\n",
      " 3   shortness_of_breath         42916 non-null  int64\n",
      " 4   head_ache                   42916 non-null  int64\n",
      " 5   age_60_and_above            42916 non-null  int64\n",
      " 6   abroad                      42916 non-null  int64\n",
      " 7   contact_with_covid_object   42916 non-null  int64\n",
      " 8   contact_with_covid_patient  42916 non-null  int64\n",
      " 9   corona_result               42916 non-null  int64\n",
      "dtypes: int64(10)\n",
      "memory usage: 3.3 MB\n"
     ]
    }
   ],
   "source": [
    "model_data.info()"
   ]
  },
  {
   "cell_type": "markdown",
   "id": "floppy-suspension",
   "metadata": {
    "papermill": {
     "duration": 0.022848,
     "end_time": "2021-06-29T11:45:23.875671",
     "exception": false,
     "start_time": "2021-06-29T11:45:23.852823",
     "status": "completed"
    },
    "tags": []
   },
   "source": [
    "### Data Modeling\n",
    "\n",
    "> *Data Partition (70:30 split)*"
   ]
  },
  {
   "cell_type": "code",
   "execution_count": 4,
   "id": "colonial-reliance",
   "metadata": {
    "execution": {
     "iopub.execute_input": "2021-06-29T11:45:23.925385Z",
     "iopub.status.busy": "2021-06-29T11:45:23.924702Z",
     "iopub.status.idle": "2021-06-29T11:45:24.985334Z",
     "shell.execute_reply": "2021-06-29T11:45:24.985966Z",
     "shell.execute_reply.started": "2021-06-27T15:00:31.662471Z"
    },
    "papermill": {
     "duration": 1.087347,
     "end_time": "2021-06-29T11:45:24.986219",
     "exception": false,
     "start_time": "2021-06-29T11:45:23.898872",
     "status": "completed"
    },
    "tags": []
   },
   "outputs": [],
   "source": [
    "x = model_data.drop(['corona_result'],axis=1)\n",
    "y = model_data['corona_result']\n",
    "\n",
    "from sklearn.model_selection import train_test_split\n",
    "from sklearn.metrics import classification_report\n",
    "from sklearn.metrics import confusion_matrix\n",
    "\n",
    "X_train, X_test, y_train, y_test = train_test_split(x,y, test_size=0.3,random_state=42)"
   ]
  },
  {
   "cell_type": "code",
   "execution_count": 5,
   "id": "continuous-shower",
   "metadata": {
    "execution": {
     "iopub.execute_input": "2021-06-29T11:45:25.036718Z",
     "iopub.status.busy": "2021-06-29T11:45:25.035888Z",
     "iopub.status.idle": "2021-06-29T11:45:25.238187Z",
     "shell.execute_reply": "2021-06-29T11:45:25.238803Z",
     "shell.execute_reply.started": "2021-06-27T15:00:32.024515Z"
    },
    "papermill": {
     "duration": 0.22921,
     "end_time": "2021-06-29T11:45:25.239040",
     "exception": false,
     "start_time": "2021-06-29T11:45:25.009830",
     "status": "completed"
    },
    "tags": []
   },
   "outputs": [],
   "source": [
    "X_train.to_csv(\"X_train.csv\",index=False)\n",
    "X_test.to_csv(\"X_test.csv\",index=False)\n",
    "y_train.to_csv(\"y_train.csv\",index=False)\n",
    "y_test.to_csv(\"y_test.csv\",index=False)"
   ]
  },
  {
   "cell_type": "code",
   "execution_count": 6,
   "id": "disturbed-martial",
   "metadata": {
    "execution": {
     "iopub.execute_input": "2021-06-29T11:45:25.292386Z",
     "iopub.status.busy": "2021-06-29T11:45:25.291438Z",
     "iopub.status.idle": "2021-06-29T11:45:25.335861Z",
     "shell.execute_reply": "2021-06-29T11:45:25.335144Z",
     "shell.execute_reply.started": "2021-06-27T15:00:32.239238Z"
    },
    "papermill": {
     "duration": 0.073384,
     "end_time": "2021-06-29T11:45:25.336058",
     "exception": false,
     "start_time": "2021-06-29T11:45:25.262674",
     "status": "completed"
    },
    "tags": []
   },
   "outputs": [],
   "source": [
    "X_train = pd.read_csv(\"./X_train.csv\")\n",
    "X_test = pd.read_csv(\"./X_test.csv\")\n",
    "y_train = pd.read_csv(\"./y_train.csv\")\n",
    "y_test = pd.read_csv(\"./y_test.csv\")"
   ]
  },
  {
   "cell_type": "markdown",
   "id": "infectious-flavor",
   "metadata": {
    "papermill": {
     "duration": 0.023138,
     "end_time": "2021-06-29T11:45:25.383117",
     "exception": false,
     "start_time": "2021-06-29T11:45:25.359979",
     "status": "completed"
    },
    "tags": []
   },
   "source": [
    "#### Evaluation Metric Function"
   ]
  },
  {
   "cell_type": "code",
   "execution_count": 7,
   "id": "nominated-peace",
   "metadata": {
    "execution": {
     "iopub.execute_input": "2021-06-29T11:45:25.441433Z",
     "iopub.status.busy": "2021-06-29T11:45:25.440675Z",
     "iopub.status.idle": "2021-06-29T11:45:25.444142Z",
     "shell.execute_reply": "2021-06-29T11:45:25.443458Z",
     "shell.execute_reply.started": "2021-06-27T15:00:32.286241Z"
    },
    "papermill": {
     "duration": 0.037375,
     "end_time": "2021-06-29T11:45:25.444319",
     "exception": false,
     "start_time": "2021-06-29T11:45:25.406944",
     "status": "completed"
    },
    "tags": []
   },
   "outputs": [],
   "source": [
    "def eval_metr(y_pred):\n",
    "  cm1 = confusion_matrix(y_test,y_pred)\n",
    "  unique_label = np.unique([y_test, y_pred])\n",
    "  cmtx = pd.DataFrame(\n",
    "    confusion_matrix(y_test, y_pred, labels=unique_label), \n",
    "    index=['true:{:}'.format(x) for x in unique_label], \n",
    "    columns=['pred:{:}'.format(x) for x in unique_label]\n",
    "  )\n",
    "  print(cmtx)\n",
    "  specificity1 = cm1[0,0]/(cm1[0,0]+cm1[0,1])\n",
    "  print('\\nSpecificity : ', specificity1)\n",
    "  recall = cm1[1,1]/(cm1[1,1]+cm1[1,0])\n",
    "  print(\"\\nRecall: \",recall)\n",
    "  precision = cm1[1,1]/(cm1[0,1]+cm1[1,1])\n",
    "  print('\\nPrecision : ', precision)\n",
    "  accuracy = (cm1[0,0]+cm1[1,1])/(cm1[0,0]+cm1[0,1]+cm1[1,0]+cm1[1,1])\n",
    "  print('\\nAccuracy : ', accuracy)"
   ]
  },
  {
   "cell_type": "markdown",
   "id": "european-special",
   "metadata": {
    "papermill": {
     "duration": 0.023085,
     "end_time": "2021-06-29T11:45:25.490885",
     "exception": false,
     "start_time": "2021-06-29T11:45:25.467800",
     "status": "completed"
    },
    "tags": []
   },
   "source": [
    "#### Logistic Regression"
   ]
  },
  {
   "cell_type": "code",
   "execution_count": 8,
   "id": "applicable-crown",
   "metadata": {
    "execution": {
     "iopub.execute_input": "2021-06-29T11:45:25.543257Z",
     "iopub.status.busy": "2021-06-29T11:45:25.542432Z",
     "iopub.status.idle": "2021-06-29T11:45:25.811770Z",
     "shell.execute_reply": "2021-06-29T11:45:25.813232Z",
     "shell.execute_reply.started": "2021-06-27T15:00:32.298286Z"
    },
    "papermill": {
     "duration": 0.299648,
     "end_time": "2021-06-29T11:45:25.813571",
     "exception": false,
     "start_time": "2021-06-29T11:45:25.513923",
     "status": "completed"
    },
    "tags": []
   },
   "outputs": [
    {
     "name": "stdout",
     "output_type": "stream",
     "text": [
      "              precision    recall  f1-score   support\n",
      "\n",
      "           0       0.57      0.31      0.41      5958\n",
      "           1       0.57      0.80      0.67      6917\n",
      "\n",
      "    accuracy                           0.57     12875\n",
      "   macro avg       0.57      0.56      0.54     12875\n",
      "weighted avg       0.57      0.57      0.55     12875\n",
      "\n"
     ]
    }
   ],
   "source": [
    "from sklearn.linear_model import LogisticRegression\n",
    "\n",
    "logistic_regression = LogisticRegression()\n",
    "logistic_regression.fit(X_train,y_train)\n",
    "y_pred=logistic_regression.predict(X_test)\n",
    "print(classification_report(y_test, y_pred))"
   ]
  },
  {
   "cell_type": "code",
   "execution_count": 9,
   "id": "swiss-highlight",
   "metadata": {
    "execution": {
     "iopub.execute_input": "2021-06-29T11:45:25.893419Z",
     "iopub.status.busy": "2021-06-29T11:45:25.892366Z",
     "iopub.status.idle": "2021-06-29T11:45:25.941885Z",
     "shell.execute_reply": "2021-06-29T11:45:25.942413Z",
     "shell.execute_reply.started": "2021-06-27T15:00:32.471495Z"
    },
    "papermill": {
     "duration": 0.085786,
     "end_time": "2021-06-29T11:45:25.942647",
     "exception": false,
     "start_time": "2021-06-29T11:45:25.856861",
     "status": "completed"
    },
    "tags": []
   },
   "outputs": [
    {
     "name": "stdout",
     "output_type": "stream",
     "text": [
      "        pred:0  pred:1\n",
      "true:0    1876    4082\n",
      "true:1    1402    5515\n",
      "\n",
      "Specificity :  0.3148707620006714\n",
      "\n",
      "Recall:  0.7973109729651583\n",
      "\n",
      "Precision :  0.5746587475252684\n",
      "\n",
      "Accuracy :  0.5740582524271844\n"
     ]
    }
   ],
   "source": [
    "eval_metr(pd.DataFrame(y_pred))"
   ]
  },
  {
   "cell_type": "code",
   "execution_count": 10,
   "id": "failing-stadium",
   "metadata": {
    "execution": {
     "iopub.execute_input": "2021-06-29T11:45:26.011110Z",
     "iopub.status.busy": "2021-06-29T11:45:26.001068Z",
     "iopub.status.idle": "2021-06-29T11:45:26.195161Z",
     "shell.execute_reply": "2021-06-29T11:45:26.194417Z",
     "shell.execute_reply.started": "2021-06-27T15:00:32.546311Z"
    },
    "papermill": {
     "duration": 0.228588,
     "end_time": "2021-06-29T11:45:26.195299",
     "exception": false,
     "start_time": "2021-06-29T11:45:25.966711",
     "status": "completed"
    },
    "tags": []
   },
   "outputs": [
    {
     "name": "stdout",
     "output_type": "stream",
     "text": [
      "cough, Score: 0.02868\n",
      "fever, Score: 0.08393\n",
      "sore_throat, Score: 0.32644\n",
      "shortness_of_breath, Score: 0.56723\n",
      "head_ache, Score: 0.26678\n",
      "age_60_and_above, Score: 0.38507\n",
      "abroad, Score: -0.69192\n",
      "contact_with_covid_object, Score: 0.19040\n",
      "contact_with_covid_patient, Score: 0.12162\n"
     ]
    },
    {
     "data": {
      "image/png": "[encoded data removed]",
      "text/plain": [
       "<Figure size 432x288 with 1 Axes>"
      ]
     },
     "metadata": {
      "needs_background": "light"
     },
     "output_type": "display_data"
    }
   ],
   "source": [
    "from matplotlib import pyplot\n",
    "li = list(X_train.columns)\n",
    "importance = logistic_regression.coef_[0]\n",
    "for i,v in enumerate(importance):\n",
    "    print('%s, Score: %.5f' % (li[i],v))\n",
    "pyplot.bar([x for x in range(len(importance))], importance)\n",
    "pyplot.show()"
   ]
  },
  {
   "cell_type": "markdown",
   "id": "suburban-eugene",
   "metadata": {
    "papermill": {
     "duration": 0.02391,
     "end_time": "2021-06-29T11:45:26.243699",
     "exception": false,
     "start_time": "2021-06-29T11:45:26.219789",
     "status": "completed"
    },
    "tags": []
   },
   "source": [
    "#### Naive Bayes"
   ]
  },
  {
   "cell_type": "code",
   "execution_count": 11,
   "id": "comfortable-transport",
   "metadata": {
    "execution": {
     "iopub.execute_input": "2021-06-29T11:45:26.298692Z",
     "iopub.status.busy": "2021-06-29T11:45:26.298049Z",
     "iopub.status.idle": "2021-06-29T11:45:26.352481Z",
     "shell.execute_reply": "2021-06-29T11:45:26.351815Z",
     "shell.execute_reply.started": "2021-06-27T15:00:32.709929Z"
    },
    "papermill": {
     "duration": 0.084278,
     "end_time": "2021-06-29T11:45:26.352636",
     "exception": false,
     "start_time": "2021-06-29T11:45:26.268358",
     "status": "completed"
    },
    "tags": []
   },
   "outputs": [
    {
     "name": "stdout",
     "output_type": "stream",
     "text": [
      "              precision    recall  f1-score   support\n",
      "\n",
      "           0       0.61      0.17      0.27      5958\n",
      "           1       0.56      0.90      0.69      6917\n",
      "\n",
      "    accuracy                           0.57     12875\n",
      "   macro avg       0.58      0.54      0.48     12875\n",
      "weighted avg       0.58      0.57      0.50     12875\n",
      "\n"
     ]
    }
   ],
   "source": [
    "from sklearn.naive_bayes import GaussianNB\n",
    "\n",
    "gnb = GaussianNB()\n",
    "gnb.fit(X_train,y_train)\n",
    "gnb_pred=gnb.predict(X_test)\n",
    "print(classification_report(y_test, gnb_pred))"
   ]
  },
  {
   "cell_type": "code",
   "execution_count": 12,
   "id": "exact-ethernet",
   "metadata": {
    "execution": {
     "iopub.execute_input": "2021-06-29T11:45:26.408080Z",
     "iopub.status.busy": "2021-06-29T11:45:26.407345Z",
     "iopub.status.idle": "2021-06-29T11:45:26.456875Z",
     "shell.execute_reply": "2021-06-29T11:45:26.456001Z",
     "shell.execute_reply.started": "2021-06-27T15:00:32.758691Z"
    },
    "papermill": {
     "duration": 0.079801,
     "end_time": "2021-06-29T11:45:26.457091",
     "exception": false,
     "start_time": "2021-06-29T11:45:26.377290",
     "status": "completed"
    },
    "tags": []
   },
   "outputs": [
    {
     "name": "stdout",
     "output_type": "stream",
     "text": [
      "        pred:0  pred:1\n",
      "true:0    1023    4935\n",
      "true:1     658    6259\n",
      "\n",
      "Specificity :  0.1717019133937563\n",
      "\n",
      "Recall:  0.9048720543588261\n",
      "\n",
      "Precision :  0.5591388243701984\n",
      "\n",
      "Accuracy :  0.5655922330097087\n"
     ]
    }
   ],
   "source": [
    "eval_metr(pd.DataFrame(gnb_pred))"
   ]
  },
  {
   "cell_type": "code",
   "execution_count": 13,
   "id": "catholic-shame",
   "metadata": {
    "execution": {
     "iopub.execute_input": "2021-06-29T11:45:26.520883Z",
     "iopub.status.busy": "2021-06-29T11:45:26.520001Z",
     "iopub.status.idle": "2021-06-29T11:45:27.155800Z",
     "shell.execute_reply": "2021-06-29T11:45:27.156548Z",
     "shell.execute_reply.started": "2021-06-27T15:00:32.805732Z"
    },
    "papermill": {
     "duration": 0.671935,
     "end_time": "2021-06-29T11:45:27.156782",
     "exception": false,
     "start_time": "2021-06-29T11:45:26.484847",
     "status": "completed"
    },
    "tags": []
   },
   "outputs": [
    {
     "data": {
      "image/png": "[encoded data removed]",
      "text/plain": [
       "<Figure size 720x504 with 1 Axes>"
      ]
     },
     "metadata": {
      "needs_background": "light"
     },
     "output_type": "display_data"
    }
   ],
   "source": [
    "from sklearn.inspection import permutation_importance\n",
    "\n",
    "imps = permutation_importance(gnb, X_test, y_test)\n",
    "importances = imps.importances_mean\n",
    "std = imps.importances_std\n",
    "indices = np.argsort(importances)[::-1]\n",
    "plt.figure(figsize=(10, 7))\n",
    "plt.title(\"Feature importances\")\n",
    "plt.bar(range(X_test.shape[1]), importances[indices], color=\"r\", yerr=std[indices], align=\"center\")\n",
    "plt.xlim([-1, X_test.shape[1]])\n",
    "plt.show()"
   ]
  },
  {
   "cell_type": "markdown",
   "id": "sustained-artist",
   "metadata": {
    "papermill": {
     "duration": 0.025205,
     "end_time": "2021-06-29T11:45:27.209264",
     "exception": false,
     "start_time": "2021-06-29T11:45:27.184059",
     "status": "completed"
    },
    "tags": []
   },
   "source": [
    "#### Random Forest "
   ]
  },
  {
   "cell_type": "code",
   "execution_count": 14,
   "id": "accomplished-equilibrium",
   "metadata": {
    "execution": {
     "iopub.execute_input": "2021-06-29T11:45:27.268963Z",
     "iopub.status.busy": "2021-06-29T11:45:27.267906Z",
     "iopub.status.idle": "2021-06-29T11:45:28.427732Z",
     "shell.execute_reply": "2021-06-29T11:45:28.426983Z",
     "shell.execute_reply.started": "2021-06-27T15:00:33.275649Z"
    },
    "papermill": {
     "duration": 1.192883,
     "end_time": "2021-06-29T11:45:28.427892",
     "exception": false,
     "start_time": "2021-06-29T11:45:27.235009",
     "status": "completed"
    },
    "tags": []
   },
   "outputs": [
    {
     "name": "stdout",
     "output_type": "stream",
     "text": [
      "              precision    recall  f1-score   support\n",
      "\n",
      "           0       0.55      0.47      0.51      5958\n",
      "           1       0.60      0.68      0.63      6917\n",
      "\n",
      "    accuracy                           0.58     12875\n",
      "   macro avg       0.58      0.57      0.57     12875\n",
      "weighted avg       0.58      0.58      0.58     12875\n",
      "\n"
     ]
    }
   ],
   "source": [
    "from sklearn.ensemble import RandomForestClassifier\n",
    "\n",
    "rfc = RandomForestClassifier()\n",
    "rfc.fit(X_train,y_train)\n",
    "rfc_pred=rfc.predict(X_test)\n",
    "print(classification_report(y_test, rfc_pred))"
   ]
  },
  {
   "cell_type": "code",
   "execution_count": 15,
   "id": "sunset-elevation",
   "metadata": {
    "execution": {
     "iopub.execute_input": "2021-06-29T11:45:28.489062Z",
     "iopub.status.busy": "2021-06-29T11:45:28.488245Z",
     "iopub.status.idle": "2021-06-29T11:45:28.536794Z",
     "shell.execute_reply": "2021-06-29T11:45:28.536055Z",
     "shell.execute_reply.started": "2021-06-27T15:00:34.422218Z"
    },
    "papermill": {
     "duration": 0.08162,
     "end_time": "2021-06-29T11:45:28.536958",
     "exception": false,
     "start_time": "2021-06-29T11:45:28.455338",
     "status": "completed"
    },
    "tags": []
   },
   "outputs": [
    {
     "name": "stdout",
     "output_type": "stream",
     "text": [
      "        pred:0  pred:1\n",
      "true:0    2784    3174\n",
      "true:1    2236    4681\n",
      "\n",
      "Specificity :  0.46727089627391744\n",
      "\n",
      "Recall:  0.6767384704351598\n",
      "\n",
      "Precision :  0.5959261616804583\n",
      "\n",
      "Accuracy :  0.5798058252427184\n"
     ]
    }
   ],
   "source": [
    "eval_metr(pd.DataFrame(rfc_pred))"
   ]
  },
  {
   "cell_type": "code",
   "execution_count": 16,
   "id": "combined-content",
   "metadata": {
    "execution": {
     "iopub.execute_input": "2021-06-29T11:45:28.609650Z",
     "iopub.status.busy": "2021-06-29T11:45:28.606439Z",
     "iopub.status.idle": "2021-06-29T11:45:28.784801Z",
     "shell.execute_reply": "2021-06-29T11:45:28.785279Z",
     "shell.execute_reply.started": "2021-06-27T15:00:34.471984Z"
    },
    "papermill": {
     "duration": 0.220548,
     "end_time": "2021-06-29T11:45:28.785505",
     "exception": false,
     "start_time": "2021-06-29T11:45:28.564957",
     "status": "completed"
    },
    "tags": []
   },
   "outputs": [
    {
     "data": {
      "text/plain": [
       "<BarContainer object of 9 artists>"
      ]
     },
     "execution_count": 16,
     "metadata": {},
     "output_type": "execute_result"
    },
    {
     "data": {
      "image/png": "[encoded data removed]",
      "text/plain": [
       "<Figure size 432x288 with 1 Axes>"
      ]
     },
     "metadata": {
      "needs_background": "light"
     },
     "output_type": "display_data"
    }
   ],
   "source": [
    "plt.barh(X_train.columns.values.tolist(),rfc.feature_importances_)"
   ]
  },
  {
   "cell_type": "markdown",
   "id": "ambient-split",
   "metadata": {
    "papermill": {
     "duration": 0.028821,
     "end_time": "2021-06-29T11:45:28.844268",
     "exception": false,
     "start_time": "2021-06-29T11:45:28.815447",
     "status": "completed"
    },
    "tags": []
   },
   "source": [
    "#### XGBoost"
   ]
  },
  {
   "cell_type": "code",
   "execution_count": 17,
   "id": "sharing-agreement",
   "metadata": {
    "execution": {
     "iopub.execute_input": "2021-06-29T11:45:28.908766Z",
     "iopub.status.busy": "2021-06-29T11:45:28.907999Z",
     "iopub.status.idle": "2021-06-29T11:45:29.696508Z",
     "shell.execute_reply": "2021-06-29T11:45:29.695937Z",
     "shell.execute_reply.started": "2021-06-27T15:00:34.646263Z"
    },
    "papermill": {
     "duration": 0.823568,
     "end_time": "2021-06-29T11:45:29.696734",
     "exception": false,
     "start_time": "2021-06-29T11:45:28.873166",
     "status": "completed"
    },
    "tags": []
   },
   "outputs": [
    {
     "name": "stdout",
     "output_type": "stream",
     "text": [
      "[11:45:29] WARNING: ../src/learner.cc:1095: Starting in XGBoost 1.3.0, the default evaluation metric used with the objective 'binary:logistic' was changed from 'error' to 'logloss'. Explicitly set eval_metric if you'd like to restore the old behavior.\n",
      "              precision    recall  f1-score   support\n",
      "\n",
      "           0       0.56      0.44      0.49      5958\n",
      "           1       0.59      0.70      0.64      6917\n",
      "\n",
      "    accuracy                           0.58     12875\n",
      "   macro avg       0.58      0.57      0.57     12875\n",
      "weighted avg       0.58      0.58      0.57     12875\n",
      "\n"
     ]
    }
   ],
   "source": [
    "from xgboost import XGBClassifier\n",
    "\n",
    "xgb = XGBClassifier(max_depth=3,random_state=42)\n",
    "xgb.fit(X_train,y_train)\n",
    "xgb_pred=xgb.predict(X_test)\n",
    "print(classification_report(y_test, xgb_pred))"
   ]
  },
  {
   "cell_type": "code",
   "execution_count": 18,
   "id": "burning-surfing",
   "metadata": {
    "execution": {
     "iopub.execute_input": "2021-06-29T11:45:29.768504Z",
     "iopub.status.busy": "2021-06-29T11:45:29.767775Z",
     "iopub.status.idle": "2021-06-29T11:45:29.816604Z",
     "shell.execute_reply": "2021-06-29T11:45:29.815682Z",
     "shell.execute_reply.started": "2021-06-27T15:00:35.397955Z"
    },
    "papermill": {
     "duration": 0.087786,
     "end_time": "2021-06-29T11:45:29.816794",
     "exception": false,
     "start_time": "2021-06-29T11:45:29.729008",
     "status": "completed"
    },
    "tags": []
   },
   "outputs": [
    {
     "name": "stdout",
     "output_type": "stream",
     "text": [
      "        pred:0  pred:1\n",
      "true:0    2620    3338\n",
      "true:1    2072    4845\n",
      "\n",
      "Specificity :  0.43974488083249413\n",
      "\n",
      "Recall:  0.7004481711724736\n",
      "\n",
      "Precision :  0.5920811438347794\n",
      "\n",
      "Accuracy :  0.5798058252427184\n"
     ]
    }
   ],
   "source": [
    "eval_metr(pd.DataFrame(xgb_pred))"
   ]
  },
  {
   "cell_type": "code",
   "execution_count": 19,
   "id": "scientific-eleven",
   "metadata": {
    "execution": {
     "iopub.execute_input": "2021-06-29T11:45:29.885364Z",
     "iopub.status.busy": "2021-06-29T11:45:29.884327Z",
     "iopub.status.idle": "2021-06-29T11:45:30.065895Z",
     "shell.execute_reply": "2021-06-29T11:45:30.066371Z",
     "shell.execute_reply.started": "2021-06-27T15:00:35.444315Z"
    },
    "papermill": {
     "duration": 0.218125,
     "end_time": "2021-06-29T11:45:30.066580",
     "exception": false,
     "start_time": "2021-06-29T11:45:29.848455",
     "status": "completed"
    },
    "tags": []
   },
   "outputs": [
    {
     "data": {
      "text/plain": [
       "<BarContainer object of 9 artists>"
      ]
     },
     "execution_count": 19,
     "metadata": {},
     "output_type": "execute_result"
    },
    {
     "data": {
      "image/png": "[encoded data removed]",
      "text/plain": [
       "<Figure size 432x288 with 1 Axes>"
      ]
     },
     "metadata": {
      "needs_background": "light"
     },
     "output_type": "display_data"
    }
   ],
   "source": [
    "plt.barh(X_train.columns.values.tolist(),xgb.feature_importances_)"
   ]
  },
  {
   "cell_type": "markdown",
   "id": "rational-blair",
   "metadata": {
    "papermill": {
     "duration": 0.03058,
     "end_time": "2021-06-29T11:45:30.128422",
     "exception": false,
     "start_time": "2021-06-29T11:45:30.097842",
     "status": "completed"
    },
    "tags": []
   },
   "source": [
    "### Evaluation Parameters\n",
    "\n",
    "> ![Formulae](https://raw.githubusercontent.com/mykeysid10/Sem-6-Risk-Prediction-of-Covid-19-Cases/main/Confusion%20Matrix.jpg)\n",
    "> 1. **Sensitivity (Recall)** : *It is the ability of a test to correctly classify an individual as COVID Positive patient.*\n",
    "> 2. **Specificity** : *It is the ability of a test to correctly classify an individual as COVID Negative patient.*\n",
    "> 3. **Precision** :  *It is the ratio of correctly predicted positive observations to the total predicted positive observations.*"
   ]
  },
  {
   "cell_type": "markdown",
   "id": "romance-instruction",
   "metadata": {
    "papermill": {
     "duration": 0.030553,
     "end_time": "2021-06-29T11:45:30.189450",
     "exception": false,
     "start_time": "2021-06-29T11:45:30.158897",
     "status": "completed"
    },
    "tags": []
   },
   "source": [
    "### Conclusion\n",
    "\n",
    "> \n",
    "> ![Evaluation Parameters](https://raw.githubusercontent.com/mykeysid10/Sem-6-Risk-Prediction-of-Covid-19-Cases/main/Model-Evaluation-Parameters.jpg)\n",
    "> \n",
    "> 1. *In this scenerio best model must have type 2 error as low as possible and type 1 error must be low.*\n",
    "> 2. *Random Forest performs slightly better than other 3 models.*"
   ]
  },
  {
   "cell_type": "markdown",
   "id": "portuguese-booth",
   "metadata": {
    "papermill": {
     "duration": 0.029635,
     "end_time": "2021-06-29T11:45:30.250020",
     "exception": false,
     "start_time": "2021-06-29T11:45:30.220385",
     "status": "completed"
    },
    "tags": []
   },
   "source": [
    "### Based On the above results Creating a pickle file to save the best model results"
   ]
  },
  {
   "cell_type": "code",
   "execution_count": 20,
   "id": "lined-darwin",
   "metadata": {
    "execution": {
     "iopub.execute_input": "2021-06-29T11:45:30.331447Z",
     "iopub.status.busy": "2021-06-29T11:45:30.319207Z",
     "iopub.status.idle": "2021-06-29T11:45:30.339115Z",
     "shell.execute_reply": "2021-06-29T11:45:30.338376Z",
     "shell.execute_reply.started": "2021-06-27T15:00:35.614195Z"
    },
    "papermill": {
     "duration": 0.057871,
     "end_time": "2021-06-29T11:45:30.339276",
     "exception": false,
     "start_time": "2021-06-29T11:45:30.281405",
     "status": "completed"
    },
    "tags": []
   },
   "outputs": [],
   "source": [
    "import pickle\n",
    "model_path = 'model.pkl'\n",
    "model_pickle = open(model_path, 'wb')\n",
    "pickle.dump(rfc, model_pickle)\n",
    "model_pickle.close()"
   ]
  }
 ],
 "metadata": {
  "kernelspec": {
   "display_name": "Python 3",
   "language": "python",
   "name": "python3"
  },
  "language_info": {
   "codemirror_mode": {
    "name": "ipython",
    "version": 3
   },
   "file_extension": ".py",
   "mimetype": "text/x-python",
   "name": "python",
   "nbconvert_exporter": "python",
   "pygments_lexer": "ipython3",
   "version": "3.7.10"
  },
  "papermill": {
   "default_parameters": {},
   "duration": 16.94055,
   "end_time": "2021-06-29T11:45:31.704085",
   "environment_variables": {},
   "exception": null,
   "input_path": "__notebook__.ipynb",
   "output_path": "__notebook__.ipynb",
   "parameters": {},
   "start_time": "2021-06-29T11:45:14.763535",
   "version": "2.3.3"
  }
 },
 "nbformat": 4,
 "nbformat_minor": 5
}
