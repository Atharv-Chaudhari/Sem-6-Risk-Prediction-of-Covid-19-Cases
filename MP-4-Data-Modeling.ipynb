{
 "cells": [
  {
   "cell_type": "markdown",
   "id": "special-spencer",
   "metadata": {
    "papermill": {
     "duration": 0.023481,
     "end_time": "2021-07-03T17:17:58.279394",
     "exception": false,
     "start_time": "2021-07-03T17:17:58.255913",
     "status": "completed"
    },
    "tags": []
   },
   "source": [
    "## Step 4: Data Modeling\n",
    "<br>\n",
    "\n",
    "> **By: Sana Shaikh & Omkar Patil**"
   ]
  },
  {
   "cell_type": "markdown",
   "id": "surgical-theology",
   "metadata": {
    "papermill": {
     "duration": 0.021589,
     "end_time": "2021-07-03T17:17:58.322970",
     "exception": false,
     "start_time": "2021-07-03T17:17:58.301381",
     "status": "completed"
    },
    "tags": []
   },
   "source": [
    "### Data Loading"
   ]
  },
  {
   "cell_type": "code",
   "execution_count": 1,
   "id": "conditional-aluminum",
   "metadata": {
    "execution": {
     "iopub.execute_input": "2021-07-03T17:17:58.371041Z",
     "iopub.status.busy": "2021-07-03T17:17:58.369849Z",
     "iopub.status.idle": "2021-07-03T17:17:58.378865Z",
     "shell.execute_reply": "2021-07-03T17:17:58.379381Z",
     "shell.execute_reply.started": "2021-07-03T16:54:27.401457Z"
    },
    "papermill": {
     "duration": 0.034581,
     "end_time": "2021-07-03T17:17:58.379687",
     "exception": false,
     "start_time": "2021-07-03T17:17:58.345106",
     "status": "completed"
    },
    "tags": []
   },
   "outputs": [],
   "source": [
    "import pandas as pd\n",
    "import numpy as np\n",
    "from matplotlib import pyplot as plt\n",
    "import warnings\n",
    "\n",
    "warnings.filterwarnings(\"ignore\")"
   ]
  },
  {
   "cell_type": "code",
   "execution_count": 2,
   "id": "vietnamese-tanzania",
   "metadata": {
    "execution": {
     "iopub.execute_input": "2021-07-03T17:17:58.426517Z",
     "iopub.status.busy": "2021-07-03T17:17:58.425857Z",
     "iopub.status.idle": "2021-07-03T17:17:58.522179Z",
     "shell.execute_reply": "2021-07-03T17:17:58.521551Z",
     "shell.execute_reply.started": "2021-07-03T16:54:27.412795Z"
    },
    "papermill": {
     "duration": 0.120746,
     "end_time": "2021-07-03T17:17:58.522316",
     "exception": false,
     "start_time": "2021-07-03T17:17:58.401570",
     "status": "completed"
    },
    "tags": []
   },
   "outputs": [
    {
     "data": {
      "text/html": [
       "<div>\n",
       "<style scoped>\n",
       "    .dataframe tbody tr th:only-of-type {\n",
       "        vertical-align: middle;\n",
       "    }\n",
       "\n",
       "    .dataframe tbody tr th {\n",
       "        vertical-align: top;\n",
       "    }\n",
       "\n",
       "    .dataframe thead th {\n",
       "        text-align: right;\n",
       "    }\n",
       "</style>\n",
       "<table border=\"1\" class=\"dataframe\">\n",
       "  <thead>\n",
       "    <tr style=\"text-align: right;\">\n",
       "      <th></th>\n",
       "      <th>cough</th>\n",
       "      <th>fever</th>\n",
       "      <th>sore_throat</th>\n",
       "      <th>shortness_of_breath</th>\n",
       "      <th>head_ache</th>\n",
       "      <th>age_60_and_above</th>\n",
       "      <th>abroad</th>\n",
       "      <th>contact_with_covid_object</th>\n",
       "      <th>contact_with_covid_patient</th>\n",
       "      <th>corona_result</th>\n",
       "    </tr>\n",
       "  </thead>\n",
       "  <tbody>\n",
       "    <tr>\n",
       "      <th>0</th>\n",
       "      <td>0</td>\n",
       "      <td>0</td>\n",
       "      <td>0</td>\n",
       "      <td>0</td>\n",
       "      <td>0</td>\n",
       "      <td>0</td>\n",
       "      <td>0</td>\n",
       "      <td>1</td>\n",
       "      <td>0</td>\n",
       "      <td>0</td>\n",
       "    </tr>\n",
       "    <tr>\n",
       "      <th>1</th>\n",
       "      <td>0</td>\n",
       "      <td>1</td>\n",
       "      <td>0</td>\n",
       "      <td>0</td>\n",
       "      <td>0</td>\n",
       "      <td>0</td>\n",
       "      <td>0</td>\n",
       "      <td>1</td>\n",
       "      <td>0</td>\n",
       "      <td>0</td>\n",
       "    </tr>\n",
       "    <tr>\n",
       "      <th>2</th>\n",
       "      <td>0</td>\n",
       "      <td>0</td>\n",
       "      <td>0</td>\n",
       "      <td>0</td>\n",
       "      <td>0</td>\n",
       "      <td>1</td>\n",
       "      <td>0</td>\n",
       "      <td>1</td>\n",
       "      <td>0</td>\n",
       "      <td>0</td>\n",
       "    </tr>\n",
       "    <tr>\n",
       "      <th>3</th>\n",
       "      <td>0</td>\n",
       "      <td>1</td>\n",
       "      <td>0</td>\n",
       "      <td>0</td>\n",
       "      <td>0</td>\n",
       "      <td>0</td>\n",
       "      <td>0</td>\n",
       "      <td>0</td>\n",
       "      <td>1</td>\n",
       "      <td>0</td>\n",
       "    </tr>\n",
       "    <tr>\n",
       "      <th>4</th>\n",
       "      <td>1</td>\n",
       "      <td>0</td>\n",
       "      <td>0</td>\n",
       "      <td>0</td>\n",
       "      <td>0</td>\n",
       "      <td>0</td>\n",
       "      <td>0</td>\n",
       "      <td>1</td>\n",
       "      <td>0</td>\n",
       "      <td>0</td>\n",
       "    </tr>\n",
       "  </tbody>\n",
       "</table>\n",
       "</div>"
      ],
      "text/plain": [
       "   cough  fever  sore_throat  shortness_of_breath  head_ache  \\\n",
       "0      0      0            0                    0          0   \n",
       "1      0      1            0                    0          0   \n",
       "2      0      0            0                    0          0   \n",
       "3      0      1            0                    0          0   \n",
       "4      1      0            0                    0          0   \n",
       "\n",
       "   age_60_and_above  abroad  contact_with_covid_object  \\\n",
       "0                 0       0                          1   \n",
       "1                 0       0                          1   \n",
       "2                 1       0                          1   \n",
       "3                 0       0                          0   \n",
       "4                 0       0                          1   \n",
       "\n",
       "   contact_with_covid_patient  corona_result  \n",
       "0                           0              0  \n",
       "1                           0              0  \n",
       "2                           0              0  \n",
       "3                           1              0  \n",
       "4                           0              0  "
      ]
     },
     "execution_count": 2,
     "metadata": {},
     "output_type": "execute_result"
    }
   ],
   "source": [
    "model_data = pd.read_csv(\"/kaggle/input/mp-feature-selection/fs_data.csv\")\n",
    "model_data.head()"
   ]
  },
  {
   "cell_type": "code",
   "execution_count": 3,
   "id": "pointed-vancouver",
   "metadata": {
    "execution": {
     "iopub.execute_input": "2021-07-03T17:17:58.572797Z",
     "iopub.status.busy": "2021-07-03T17:17:58.572092Z",
     "iopub.status.idle": "2021-07-03T17:17:58.590405Z",
     "shell.execute_reply": "2021-07-03T17:17:58.591147Z",
     "shell.execute_reply.started": "2021-07-03T16:54:27.472298Z"
    },
    "papermill": {
     "duration": 0.046348,
     "end_time": "2021-07-03T17:17:58.591371",
     "exception": false,
     "start_time": "2021-07-03T17:17:58.545023",
     "status": "completed"
    },
    "tags": []
   },
   "outputs": [
    {
     "name": "stdout",
     "output_type": "stream",
     "text": [
      "<class 'pandas.core.frame.DataFrame'>\n",
      "RangeIndex: 42916 entries, 0 to 42915\n",
      "Data columns (total 10 columns):\n",
      " #   Column                      Non-Null Count  Dtype\n",
      "---  ------                      --------------  -----\n",
      " 0   cough                       42916 non-null  int64\n",
      " 1   fever                       42916 non-null  int64\n",
      " 2   sore_throat                 42916 non-null  int64\n",
      " 3   shortness_of_breath         42916 non-null  int64\n",
      " 4   head_ache                   42916 non-null  int64\n",
      " 5   age_60_and_above            42916 non-null  int64\n",
      " 6   abroad                      42916 non-null  int64\n",
      " 7   contact_with_covid_object   42916 non-null  int64\n",
      " 8   contact_with_covid_patient  42916 non-null  int64\n",
      " 9   corona_result               42916 non-null  int64\n",
      "dtypes: int64(10)\n",
      "memory usage: 3.3 MB\n"
     ]
    }
   ],
   "source": [
    "model_data.info()"
   ]
  },
  {
   "cell_type": "markdown",
   "id": "developed-brother",
   "metadata": {
    "papermill": {
     "duration": 0.022353,
     "end_time": "2021-07-03T17:17:58.637400",
     "exception": false,
     "start_time": "2021-07-03T17:17:58.615047",
     "status": "completed"
    },
    "tags": []
   },
   "source": [
    "### Data Modeling\n",
    "\n",
    "> *Data Partition (70:30 split)*"
   ]
  },
  {
   "cell_type": "code",
   "execution_count": 4,
   "id": "caring-lemon",
   "metadata": {
    "execution": {
     "iopub.execute_input": "2021-07-03T17:17:58.685547Z",
     "iopub.status.busy": "2021-07-03T17:17:58.684908Z",
     "iopub.status.idle": "2021-07-03T17:17:59.678341Z",
     "shell.execute_reply": "2021-07-03T17:17:59.677675Z",
     "shell.execute_reply.started": "2021-07-03T16:54:27.489236Z"
    },
    "papermill": {
     "duration": 1.018583,
     "end_time": "2021-07-03T17:17:59.678494",
     "exception": false,
     "start_time": "2021-07-03T17:17:58.659911",
     "status": "completed"
    },
    "tags": []
   },
   "outputs": [],
   "source": [
    "x = model_data.drop(['corona_result'],axis=1)\n",
    "y = model_data['corona_result']\n",
    "\n",
    "from sklearn.model_selection import train_test_split\n",
    "from sklearn.metrics import classification_report\n",
    "from sklearn.metrics import confusion_matrix\n",
    "\n",
    "X_train, X_test, y_train, y_test = train_test_split(x,y, test_size=0.3,random_state=42)"
   ]
  },
  {
   "cell_type": "code",
   "execution_count": 5,
   "id": "british-humanity",
   "metadata": {
    "execution": {
     "iopub.execute_input": "2021-07-03T17:17:59.729535Z",
     "iopub.status.busy": "2021-07-03T17:17:59.728870Z",
     "iopub.status.idle": "2021-07-03T17:17:59.927609Z",
     "shell.execute_reply": "2021-07-03T17:17:59.926983Z",
     "shell.execute_reply.started": "2021-07-03T16:54:27.508529Z"
    },
    "papermill": {
     "duration": 0.226398,
     "end_time": "2021-07-03T17:17:59.927776",
     "exception": false,
     "start_time": "2021-07-03T17:17:59.701378",
     "status": "completed"
    },
    "tags": []
   },
   "outputs": [],
   "source": [
    "X_train.to_csv(\"X_train.csv\",index=False)\n",
    "X_test.to_csv(\"X_test.csv\",index=False)\n",
    "y_train.to_csv(\"y_train.csv\",index=False)\n",
    "y_test.to_csv(\"y_test.csv\",index=False)"
   ]
  },
  {
   "cell_type": "code",
   "execution_count": 6,
   "id": "adolescent-lingerie",
   "metadata": {
    "execution": {
     "iopub.execute_input": "2021-07-03T17:17:59.979104Z",
     "iopub.status.busy": "2021-07-03T17:17:59.978390Z",
     "iopub.status.idle": "2021-07-03T17:18:00.021691Z",
     "shell.execute_reply": "2021-07-03T17:18:00.020990Z",
     "shell.execute_reply.started": "2021-07-03T16:54:27.711256Z"
    },
    "papermill": {
     "duration": 0.071027,
     "end_time": "2021-07-03T17:18:00.021851",
     "exception": false,
     "start_time": "2021-07-03T17:17:59.950824",
     "status": "completed"
    },
    "tags": []
   },
   "outputs": [],
   "source": [
    "X_train = pd.read_csv(\"./X_train.csv\")\n",
    "X_test = pd.read_csv(\"./X_test.csv\")\n",
    "y_train = pd.read_csv(\"./y_train.csv\")\n",
    "y_test = pd.read_csv(\"./y_test.csv\")"
   ]
  },
  {
   "cell_type": "markdown",
   "id": "chemical-annotation",
   "metadata": {
    "papermill": {
     "duration": 0.023204,
     "end_time": "2021-07-03T17:18:00.068050",
     "exception": false,
     "start_time": "2021-07-03T17:18:00.044846",
     "status": "completed"
    },
    "tags": []
   },
   "source": [
    "#### Evaluation Metric Function"
   ]
  },
  {
   "cell_type": "code",
   "execution_count": 7,
   "id": "dominant-bread",
   "metadata": {
    "execution": {
     "iopub.execute_input": "2021-07-03T17:18:00.124075Z",
     "iopub.status.busy": "2021-07-03T17:18:00.123094Z",
     "iopub.status.idle": "2021-07-03T17:18:00.126293Z",
     "shell.execute_reply": "2021-07-03T17:18:00.125674Z",
     "shell.execute_reply.started": "2021-07-03T16:54:27.760073Z"
    },
    "papermill": {
     "duration": 0.035441,
     "end_time": "2021-07-03T17:18:00.126437",
     "exception": false,
     "start_time": "2021-07-03T17:18:00.090996",
     "status": "completed"
    },
    "tags": []
   },
   "outputs": [],
   "source": [
    "def eval_metr(y_pred):\n",
    "  cm1 = confusion_matrix(y_test,y_pred)\n",
    "  unique_label = np.unique([y_test, y_pred])\n",
    "  cmtx = pd.DataFrame(\n",
    "    confusion_matrix(y_test, y_pred, labels=unique_label), \n",
    "    index=['true:{:}'.format(x) for x in unique_label], \n",
    "    columns=['pred:{:}'.format(x) for x in unique_label]\n",
    "  )\n",
    "  print(cmtx)\n",
    "  specificity1 = cm1[0,0]/(cm1[0,0]+cm1[0,1])\n",
    "  print('\\nSpecificity : ', specificity1)\n",
    "  recall = cm1[1,1]/(cm1[1,1]+cm1[1,0])\n",
    "  print(\"\\nRecall: \",recall)\n",
    "  precision = cm1[1,1]/(cm1[0,1]+cm1[1,1])\n",
    "  print('\\nPrecision : ', precision)\n",
    "  accuracy = (cm1[0,0]+cm1[1,1])/(cm1[0,0]+cm1[0,1]+cm1[1,0]+cm1[1,1])\n",
    "  print('\\nAccuracy : ', accuracy)"
   ]
  },
  {
   "cell_type": "markdown",
   "id": "experimental-bowling",
   "metadata": {
    "papermill": {
     "duration": 0.022727,
     "end_time": "2021-07-03T17:18:00.171910",
     "exception": false,
     "start_time": "2021-07-03T17:18:00.149183",
     "status": "completed"
    },
    "tags": []
   },
   "source": [
    "#### Logistic Regression"
   ]
  },
  {
   "cell_type": "code",
   "execution_count": 8,
   "id": "answering-stress",
   "metadata": {
    "execution": {
     "iopub.execute_input": "2021-07-03T17:18:00.222814Z",
     "iopub.status.busy": "2021-07-03T17:18:00.222152Z",
     "iopub.status.idle": "2021-07-03T17:18:00.460623Z",
     "shell.execute_reply": "2021-07-03T17:18:00.461743Z",
     "shell.execute_reply.started": "2021-07-03T16:54:27.772606Z"
    },
    "papermill": {
     "duration": 0.267026,
     "end_time": "2021-07-03T17:18:00.462024",
     "exception": false,
     "start_time": "2021-07-03T17:18:00.194998",
     "status": "completed"
    },
    "tags": []
   },
   "outputs": [
    {
     "name": "stdout",
     "output_type": "stream",
     "text": [
      "              precision    recall  f1-score   support\n",
      "\n",
      "           0       0.57      0.31      0.41      5958\n",
      "           1       0.57      0.80      0.67      6917\n",
      "\n",
      "    accuracy                           0.57     12875\n",
      "   macro avg       0.57      0.56      0.54     12875\n",
      "weighted avg       0.57      0.57      0.55     12875\n",
      "\n"
     ]
    }
   ],
   "source": [
    "from sklearn.linear_model import LogisticRegression\n",
    "\n",
    "logistic_regression = LogisticRegression()\n",
    "logistic_regression.fit(X_train,y_train)\n",
    "y_pred=logistic_regression.predict(X_test)\n",
    "print(classification_report(y_test, y_pred))"
   ]
  },
  {
   "cell_type": "code",
   "execution_count": 9,
   "id": "sweet-wireless",
   "metadata": {
    "execution": {
     "iopub.execute_input": "2021-07-03T17:18:00.542778Z",
     "iopub.status.busy": "2021-07-03T17:18:00.542104Z",
     "iopub.status.idle": "2021-07-03T17:18:00.585921Z",
     "shell.execute_reply": "2021-07-03T17:18:00.586376Z",
     "shell.execute_reply.started": "2021-07-03T16:54:27.938547Z"
    },
    "papermill": {
     "duration": 0.08252,
     "end_time": "2021-07-03T17:18:00.586552",
     "exception": false,
     "start_time": "2021-07-03T17:18:00.504032",
     "status": "completed"
    },
    "tags": []
   },
   "outputs": [
    {
     "name": "stdout",
     "output_type": "stream",
     "text": [
      "        pred:0  pred:1\n",
      "true:0    1876    4082\n",
      "true:1    1402    5515\n",
      "\n",
      "Specificity :  0.3148707620006714\n",
      "\n",
      "Recall:  0.7973109729651583\n",
      "\n",
      "Precision :  0.5746587475252684\n",
      "\n",
      "Accuracy :  0.5740582524271844\n"
     ]
    }
   ],
   "source": [
    "eval_metr(pd.DataFrame(y_pred))"
   ]
  },
  {
   "cell_type": "code",
   "execution_count": 10,
   "id": "metric-hospital",
   "metadata": {
    "execution": {
     "iopub.execute_input": "2021-07-03T17:18:00.657451Z",
     "iopub.status.busy": "2021-07-03T17:18:00.656742Z",
     "iopub.status.idle": "2021-07-03T17:18:00.814870Z",
     "shell.execute_reply": "2021-07-03T17:18:00.814339Z",
     "shell.execute_reply.started": "2021-07-03T16:54:28.020609Z"
    },
    "papermill": {
     "duration": 0.204765,
     "end_time": "2021-07-03T17:18:00.815026",
     "exception": false,
     "start_time": "2021-07-03T17:18:00.610261",
     "status": "completed"
    },
    "tags": []
   },
   "outputs": [
    {
     "name": "stdout",
     "output_type": "stream",
     "text": [
      "cough, Score: 0.02868\n",
      "fever, Score: 0.08393\n",
      "sore_throat, Score: 0.32644\n",
      "shortness_of_breath, Score: 0.56723\n",
      "head_ache, Score: 0.26678\n",
      "age_60_and_above, Score: 0.38507\n",
      "abroad, Score: -0.69192\n",
      "contact_with_covid_object, Score: 0.19040\n",
      "contact_with_covid_patient, Score: 0.12162\n"
     ]
    },
    {
     "data": {
      "image/png": "[encoded data removed]",
      "text/plain": [
       "<Figure size 432x288 with 1 Axes>"
      ]
     },
     "metadata": {
      "needs_background": "light"
     },
     "output_type": "display_data"
    }
   ],
   "source": [
    "from matplotlib import pyplot\n",
    "li = list(X_train.columns)\n",
    "importance = logistic_regression.coef_[0]\n",
    "for i,v in enumerate(importance):\n",
    "    print('%s, Score: %.5f' % (li[i],v))\n",
    "pyplot.bar([x for x in range(len(importance))], importance)\n",
    "pyplot.show()"
   ]
  },
  {
   "cell_type": "markdown",
   "id": "architectural-newcastle",
   "metadata": {
    "papermill": {
     "duration": 0.023907,
     "end_time": "2021-07-03T17:18:00.863383",
     "exception": false,
     "start_time": "2021-07-03T17:18:00.839476",
     "status": "completed"
    },
    "tags": []
   },
   "source": [
    "#### Naive Bayes"
   ]
  },
  {
   "cell_type": "code",
   "execution_count": 11,
   "id": "vocational-buffalo",
   "metadata": {
    "execution": {
     "iopub.execute_input": "2021-07-03T17:18:00.917590Z",
     "iopub.status.busy": "2021-07-03T17:18:00.916623Z",
     "iopub.status.idle": "2021-07-03T17:18:00.965301Z",
     "shell.execute_reply": "2021-07-03T17:18:00.965776Z",
     "shell.execute_reply.started": "2021-07-03T16:54:28.190976Z"
    },
    "papermill": {
     "duration": 0.078294,
     "end_time": "2021-07-03T17:18:00.965961",
     "exception": false,
     "start_time": "2021-07-03T17:18:00.887667",
     "status": "completed"
    },
    "tags": []
   },
   "outputs": [
    {
     "name": "stdout",
     "output_type": "stream",
     "text": [
      "              precision    recall  f1-score   support\n",
      "\n",
      "           0       0.61      0.17      0.27      5958\n",
      "           1       0.56      0.90      0.69      6917\n",
      "\n",
      "    accuracy                           0.57     12875\n",
      "   macro avg       0.58      0.54      0.48     12875\n",
      "weighted avg       0.58      0.57      0.50     12875\n",
      "\n"
     ]
    }
   ],
   "source": [
    "from sklearn.naive_bayes import GaussianNB\n",
    "\n",
    "gnb = GaussianNB()\n",
    "gnb.fit(X_train,y_train)\n",
    "gnb_pred=gnb.predict(X_test)\n",
    "print(classification_report(y_test, gnb_pred))"
   ]
  },
  {
   "cell_type": "code",
   "execution_count": 12,
   "id": "turned-bearing",
   "metadata": {
    "execution": {
     "iopub.execute_input": "2021-07-03T17:18:01.022047Z",
     "iopub.status.busy": "2021-07-03T17:18:01.021057Z",
     "iopub.status.idle": "2021-07-03T17:18:01.066962Z",
     "shell.execute_reply": "2021-07-03T17:18:01.066159Z",
     "shell.execute_reply.started": "2021-07-03T16:54:28.239878Z"
    },
    "papermill": {
     "duration": 0.075801,
     "end_time": "2021-07-03T17:18:01.067154",
     "exception": false,
     "start_time": "2021-07-03T17:18:00.991353",
     "status": "completed"
    },
    "tags": []
   },
   "outputs": [
    {
     "name": "stdout",
     "output_type": "stream",
     "text": [
      "        pred:0  pred:1\n",
      "true:0    1023    4935\n",
      "true:1     658    6259\n",
      "\n",
      "Specificity :  0.1717019133937563\n",
      "\n",
      "Recall:  0.9048720543588261\n",
      "\n",
      "Precision :  0.5591388243701984\n",
      "\n",
      "Accuracy :  0.5655922330097087\n"
     ]
    }
   ],
   "source": [
    "eval_metr(pd.DataFrame(gnb_pred))"
   ]
  },
  {
   "cell_type": "code",
   "execution_count": 13,
   "id": "corporate-rescue",
   "metadata": {
    "execution": {
     "iopub.execute_input": "2021-07-03T17:18:01.125371Z",
     "iopub.status.busy": "2021-07-03T17:18:01.124668Z",
     "iopub.status.idle": "2021-07-03T17:18:01.734847Z",
     "shell.execute_reply": "2021-07-03T17:18:01.733767Z",
     "shell.execute_reply.started": "2021-07-03T16:54:28.298153Z"
    },
    "papermill": {
     "duration": 0.641964,
     "end_time": "2021-07-03T17:18:01.735054",
     "exception": false,
     "start_time": "2021-07-03T17:18:01.093090",
     "status": "completed"
    },
    "tags": []
   },
   "outputs": [
    {
     "data": {
      "image/png": "[encoded data removed]",
      "text/plain": [
       "<Figure size 720x504 with 1 Axes>"
      ]
     },
     "metadata": {
      "needs_background": "light"
     },
     "output_type": "display_data"
    }
   ],
   "source": [
    "from sklearn.inspection import permutation_importance\n",
    "\n",
    "imps = permutation_importance(gnb, X_test, y_test)\n",
    "importances = imps.importances_mean\n",
    "std = imps.importances_std\n",
    "indices = np.argsort(importances)[::-1]\n",
    "plt.figure(figsize=(10, 7))\n",
    "plt.title(\"Feature importances\")\n",
    "plt.bar(range(X_test.shape[1]), importances[indices], color=\"r\", yerr=std[indices], align=\"center\")\n",
    "plt.xlim([-1, X_test.shape[1]])\n",
    "plt.show()"
   ]
  },
  {
   "cell_type": "markdown",
   "id": "delayed-cathedral",
   "metadata": {
    "papermill": {
     "duration": 0.02527,
     "end_time": "2021-07-03T17:18:01.786197",
     "exception": false,
     "start_time": "2021-07-03T17:18:01.760927",
     "status": "completed"
    },
    "tags": []
   },
   "source": [
    "#### Random Forest "
   ]
  },
  {
   "cell_type": "code",
   "execution_count": 14,
   "id": "bound-brother",
   "metadata": {
    "execution": {
     "iopub.execute_input": "2021-07-03T17:18:01.845274Z",
     "iopub.status.busy": "2021-07-03T17:18:01.844245Z",
     "iopub.status.idle": "2021-07-03T17:18:02.964033Z",
     "shell.execute_reply": "2021-07-03T17:18:02.962788Z",
     "shell.execute_reply.started": "2021-07-03T16:54:28.772325Z"
    },
    "papermill": {
     "duration": 1.152366,
     "end_time": "2021-07-03T17:18:02.964308",
     "exception": false,
     "start_time": "2021-07-03T17:18:01.811942",
     "status": "completed"
    },
    "tags": []
   },
   "outputs": [
    {
     "name": "stdout",
     "output_type": "stream",
     "text": [
      "              precision    recall  f1-score   support\n",
      "\n",
      "           0       0.55      0.49      0.52      5958\n",
      "           1       0.60      0.66      0.63      6917\n",
      "\n",
      "    accuracy                           0.58     12875\n",
      "   macro avg       0.58      0.57      0.57     12875\n",
      "weighted avg       0.58      0.58      0.58     12875\n",
      "\n"
     ]
    }
   ],
   "source": [
    "from sklearn.ensemble import RandomForestClassifier\n",
    "\n",
    "rfc = RandomForestClassifier()\n",
    "rfc.fit(X_train,y_train)\n",
    "rfc_pred=rfc.predict(X_test)\n",
    "print(classification_report(y_test, rfc_pred))"
   ]
  },
  {
   "cell_type": "code",
   "execution_count": 15,
   "id": "enormous-franchise",
   "metadata": {
    "execution": {
     "iopub.execute_input": "2021-07-03T17:18:03.024503Z",
     "iopub.status.busy": "2021-07-03T17:18:03.023886Z",
     "iopub.status.idle": "2021-07-03T17:18:03.070133Z",
     "shell.execute_reply": "2021-07-03T17:18:03.069555Z",
     "shell.execute_reply.started": "2021-07-03T16:54:29.925243Z"
    },
    "papermill": {
     "duration": 0.078772,
     "end_time": "2021-07-03T17:18:03.070289",
     "exception": false,
     "start_time": "2021-07-03T17:18:02.991517",
     "status": "completed"
    },
    "tags": []
   },
   "outputs": [
    {
     "name": "stdout",
     "output_type": "stream",
     "text": [
      "        pred:0  pred:1\n",
      "true:0    2909    3049\n",
      "true:1    2345    4572\n",
      "\n",
      "Specificity :  0.4882510909701242\n",
      "\n",
      "Recall:  0.6609801937256036\n",
      "\n",
      "Precision :  0.5999212701745178\n",
      "\n",
      "Accuracy :  0.5810485436893204\n"
     ]
    }
   ],
   "source": [
    "eval_metr(pd.DataFrame(rfc_pred))"
   ]
  },
  {
   "cell_type": "code",
   "execution_count": 16,
   "id": "desirable-burst",
   "metadata": {
    "execution": {
     "iopub.execute_input": "2021-07-03T17:18:03.135202Z",
     "iopub.status.busy": "2021-07-03T17:18:03.132703Z",
     "iopub.status.idle": "2021-07-03T17:18:03.295858Z",
     "shell.execute_reply": "2021-07-03T17:18:03.295203Z",
     "shell.execute_reply.started": "2021-07-03T16:54:29.973781Z"
    },
    "papermill": {
     "duration": 0.199131,
     "end_time": "2021-07-03T17:18:03.296026",
     "exception": false,
     "start_time": "2021-07-03T17:18:03.096895",
     "status": "completed"
    },
    "tags": []
   },
   "outputs": [
    {
     "data": {
      "text/plain": [
       "<BarContainer object of 9 artists>"
      ]
     },
     "execution_count": 16,
     "metadata": {},
     "output_type": "execute_result"
    },
    {
     "data": {
      "image/png": "[encoded data removed]",
      "text/plain": [
       "<Figure size 432x288 with 1 Axes>"
      ]
     },
     "metadata": {
      "needs_background": "light"
     },
     "output_type": "display_data"
    }
   ],
   "source": [
    "plt.barh(X_train.columns.values.tolist(),rfc.feature_importances_)"
   ]
  },
  {
   "cell_type": "markdown",
   "id": "atomic-burns",
   "metadata": {
    "papermill": {
     "duration": 0.028442,
     "end_time": "2021-07-03T17:18:03.353042",
     "exception": false,
     "start_time": "2021-07-03T17:18:03.324600",
     "status": "completed"
    },
    "tags": []
   },
   "source": [
    "#### XGBoost"
   ]
  },
  {
   "cell_type": "code",
   "execution_count": 17,
   "id": "killing-mongolia",
   "metadata": {
    "execution": {
     "iopub.execute_input": "2021-07-03T17:18:03.414599Z",
     "iopub.status.busy": "2021-07-03T17:18:03.413822Z",
     "iopub.status.idle": "2021-07-03T17:18:04.133567Z",
     "shell.execute_reply": "2021-07-03T17:18:04.132945Z",
     "shell.execute_reply.started": "2021-07-03T16:54:30.172498Z"
    },
    "papermill": {
     "duration": 0.752859,
     "end_time": "2021-07-03T17:18:04.133747",
     "exception": false,
     "start_time": "2021-07-03T17:18:03.380888",
     "status": "completed"
    },
    "tags": []
   },
   "outputs": [
    {
     "name": "stdout",
     "output_type": "stream",
     "text": [
      "              precision    recall  f1-score   support\n",
      "\n",
      "           0       0.56      0.44      0.49      5958\n",
      "           1       0.59      0.70      0.64      6917\n",
      "\n",
      "    accuracy                           0.58     12875\n",
      "   macro avg       0.58      0.57      0.57     12875\n",
      "weighted avg       0.58      0.58      0.57     12875\n",
      "\n"
     ]
    }
   ],
   "source": [
    "from xgboost import XGBClassifier\n",
    "\n",
    "xgb = XGBClassifier(max_depth=3,random_state=42, objective='binary:logistic', eval_metric= \"logloss\")\n",
    "xgb.fit(X_train,y_train)\n",
    "xgb_pred=xgb.predict(X_test)\n",
    "print(classification_report(y_test, xgb_pred))"
   ]
  },
  {
   "cell_type": "code",
   "execution_count": 18,
   "id": "civic-inspector",
   "metadata": {
    "execution": {
     "iopub.execute_input": "2021-07-03T17:18:04.205839Z",
     "iopub.status.busy": "2021-07-03T17:18:04.205130Z",
     "iopub.status.idle": "2021-07-03T17:18:04.252343Z",
     "shell.execute_reply": "2021-07-03T17:18:04.251801Z",
     "shell.execute_reply.started": "2021-07-03T16:54:30.705373Z"
    },
    "papermill": {
     "duration": 0.08413,
     "end_time": "2021-07-03T17:18:04.252479",
     "exception": false,
     "start_time": "2021-07-03T17:18:04.168349",
     "status": "completed"
    },
    "tags": []
   },
   "outputs": [
    {
     "name": "stdout",
     "output_type": "stream",
     "text": [
      "        pred:0  pred:1\n",
      "true:0    2620    3338\n",
      "true:1    2072    4845\n",
      "\n",
      "Specificity :  0.43974488083249413\n",
      "\n",
      "Recall:  0.7004481711724736\n",
      "\n",
      "Precision :  0.5920811438347794\n",
      "\n",
      "Accuracy :  0.5798058252427184\n"
     ]
    }
   ],
   "source": [
    "eval_metr(pd.DataFrame(xgb_pred))"
   ]
  },
  {
   "cell_type": "code",
   "execution_count": 19,
   "id": "deadly-reference",
   "metadata": {
    "execution": {
     "iopub.execute_input": "2021-07-03T17:18:04.314570Z",
     "iopub.status.busy": "2021-07-03T17:18:04.313551Z",
     "iopub.status.idle": "2021-07-03T17:18:04.487333Z",
     "shell.execute_reply": "2021-07-03T17:18:04.486820Z",
     "shell.execute_reply.started": "2021-07-03T16:54:30.755629Z"
    },
    "papermill": {
     "duration": 0.206899,
     "end_time": "2021-07-03T17:18:04.487491",
     "exception": false,
     "start_time": "2021-07-03T17:18:04.280592",
     "status": "completed"
    },
    "tags": []
   },
   "outputs": [
    {
     "data": {
      "text/plain": [
       "<BarContainer object of 9 artists>"
      ]
     },
     "execution_count": 19,
     "metadata": {},
     "output_type": "execute_result"
    },
    {
     "data": {
      "image/png": "[encoded data removed]",
      "text/plain": [
       "<Figure size 432x288 with 1 Axes>"
      ]
     },
     "metadata": {
      "needs_background": "light"
     },
     "output_type": "display_data"
    }
   ],
   "source": [
    "plt.barh(X_train.columns.values.tolist(),xgb.feature_importances_)"
   ]
  },
  {
   "cell_type": "markdown",
   "id": "weird-dimension",
   "metadata": {
    "papermill": {
     "duration": 0.029098,
     "end_time": "2021-07-03T17:18:04.546555",
     "exception": false,
     "start_time": "2021-07-03T17:18:04.517457",
     "status": "completed"
    },
    "tags": []
   },
   "source": [
    "### Evaluation Parameters\n",
    "\n",
    "> ![Formulae](https://raw.githubusercontent.com/mykeysid10/Sem-6-Risk-Prediction-of-Covid-19-Cases/main/Confusion%20Matrix.jpg)\n",
    "> 1. **Sensitivity (Recall)** : *It is the ability of a test to correctly classify an individual as COVID Positive patient.*\n",
    "> 2. **Specificity** : *It is the ability of a test to correctly classify an individual as COVID Negative patient.*\n",
    "> 3. **Precision** :  *It is the ratio of correctly predicted positive observations to the total predicted positive observations.*"
   ]
  },
  {
   "cell_type": "markdown",
   "id": "violent-cookie",
   "metadata": {
    "papermill": {
     "duration": 0.029221,
     "end_time": "2021-07-03T17:18:04.605395",
     "exception": false,
     "start_time": "2021-07-03T17:18:04.576174",
     "status": "completed"
    },
    "tags": []
   },
   "source": [
    "### Conclusion\n",
    "\n",
    "> \n",
    "> ![Evaluation Parameters](https://raw.githubusercontent.com/mykeysid10/Sem-6-Risk-Prediction-of-Covid-19-Cases/main/Model-Evaluation-Parameters.png)\n",
    "> \n",
    "> 1. *In this scenerio best model must have type 2 error as low as possible and type 1 error should be low.*\n",
    "> 2. *XGBoost performs slightly better than other 3 models.*"
   ]
  },
  {
   "cell_type": "markdown",
   "id": "burning-merit",
   "metadata": {
    "papermill": {
     "duration": 0.029153,
     "end_time": "2021-07-03T17:18:04.663981",
     "exception": false,
     "start_time": "2021-07-03T17:18:04.634828",
     "status": "completed"
    },
    "tags": []
   },
   "source": [
    "### Based On the above results Creating a pickle file to save the best model results"
   ]
  },
  {
   "cell_type": "code",
   "execution_count": 20,
   "id": "invalid-bridal",
   "metadata": {
    "execution": {
     "iopub.execute_input": "2021-07-03T17:18:04.727612Z",
     "iopub.status.busy": "2021-07-03T17:18:04.726880Z",
     "iopub.status.idle": "2021-07-03T17:18:04.729779Z",
     "shell.execute_reply": "2021-07-03T17:18:04.730249Z",
     "shell.execute_reply.started": "2021-07-03T16:54:30.942682Z"
    },
    "papermill": {
     "duration": 0.037577,
     "end_time": "2021-07-03T17:18:04.730458",
     "exception": false,
     "start_time": "2021-07-03T17:18:04.692881",
     "status": "completed"
    },
    "tags": []
   },
   "outputs": [],
   "source": [
    "# import pickle\n",
    "# model_path = 'model.pkl'\n",
    "# model_pickle = open(model_path, 'wb')\n",
    "# pickle.dump(rfc, model_pickle)\n",
    "# model_pickle.close()"
   ]
  }
 ],
 "metadata": {
  "kernelspec": {
   "display_name": "Python 3",
   "language": "python",
   "name": "python3"
  },
  "language_info": {
   "codemirror_mode": {
    "name": "ipython",
    "version": 3
   },
   "file_extension": ".py",
   "mimetype": "text/x-python",
   "name": "python",
   "nbconvert_exporter": "python",
   "pygments_lexer": "ipython3",
   "version": "3.7.10"
  },
  "papermill": {
   "default_parameters": {},
   "duration": 15.873402,
   "end_time": "2021-07-03T17:18:05.993020",
   "environment_variables": {},
   "exception": null,
   "input_path": "__notebook__.ipynb",
   "output_path": "__notebook__.ipynb",
   "parameters": {},
   "start_time": "2021-07-03T17:17:50.119618",
   "version": "2.3.3"
  }
 },
 "nbformat": 4,
 "nbformat_minor": 5
}
