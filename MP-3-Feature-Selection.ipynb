{
 "cells": [
  {
   "cell_type": "markdown",
   "id": "elementary-apple",
   "metadata": {
    "papermill": {
     "duration": 0.015393,
     "end_time": "2021-06-27T11:47:53.177660",
     "exception": false,
     "start_time": "2021-06-27T11:47:53.162267",
     "status": "completed"
    },
    "tags": []
   },
   "source": [
    "## **Step 3: Feature Selection**\n",
    "<br>\n",
    "\n",
    "> #### By: Atharv Chaudhari"
   ]
  },
  {
   "cell_type": "markdown",
   "id": "outdoor-kuwait",
   "metadata": {
    "papermill": {
     "duration": 0.014002,
     "end_time": "2021-06-27T11:47:53.205974",
     "exception": false,
     "start_time": "2021-06-27T11:47:53.191972",
     "status": "completed"
    },
    "tags": []
   },
   "source": [
    "### Data Loading"
   ]
  },
  {
   "cell_type": "code",
   "execution_count": 1,
   "id": "biological-melissa",
   "metadata": {
    "execution": {
     "iopub.execute_input": "2021-06-27T11:47:53.240546Z",
     "iopub.status.busy": "2021-06-27T11:47:53.238723Z",
     "iopub.status.idle": "2021-06-27T11:47:53.250334Z",
     "shell.execute_reply": "2021-06-27T11:47:53.249716Z",
     "shell.execute_reply.started": "2021-06-27T11:47:00.617020Z"
    },
    "papermill": {
     "duration": 0.030326,
     "end_time": "2021-06-27T11:47:53.250505",
     "exception": false,
     "start_time": "2021-06-27T11:47:53.220179",
     "status": "completed"
    },
    "tags": []
   },
   "outputs": [],
   "source": [
    "import pandas as pd"
   ]
  },
  {
   "cell_type": "code",
   "execution_count": 2,
   "id": "helpful-honduras",
   "metadata": {
    "execution": {
     "iopub.execute_input": "2021-06-27T11:47:53.284584Z",
     "iopub.status.busy": "2021-06-27T11:47:53.283907Z",
     "iopub.status.idle": "2021-06-27T11:47:53.390029Z",
     "shell.execute_reply": "2021-06-27T11:47:53.390505Z",
     "shell.execute_reply.started": "2021-06-27T11:47:00.656843Z"
    },
    "papermill": {
     "duration": 0.125746,
     "end_time": "2021-06-27T11:47:53.390685",
     "exception": false,
     "start_time": "2021-06-27T11:47:53.264939",
     "status": "completed"
    },
    "tags": []
   },
   "outputs": [
    {
     "data": {
      "text/html": [
       "<div>\n",
       "<style scoped>\n",
       "    .dataframe tbody tr th:only-of-type {\n",
       "        vertical-align: middle;\n",
       "    }\n",
       "\n",
       "    .dataframe tbody tr th {\n",
       "        vertical-align: top;\n",
       "    }\n",
       "\n",
       "    .dataframe thead th {\n",
       "        text-align: right;\n",
       "    }\n",
       "</style>\n",
       "<table border=\"1\" class=\"dataframe\">\n",
       "  <thead>\n",
       "    <tr style=\"text-align: right;\">\n",
       "      <th></th>\n",
       "      <th>year</th>\n",
       "      <th>month</th>\n",
       "      <th>day</th>\n",
       "      <th>cough</th>\n",
       "      <th>fever</th>\n",
       "      <th>sore_throat</th>\n",
       "      <th>shortness_of_breath</th>\n",
       "      <th>head_ache</th>\n",
       "      <th>age_60_and_above</th>\n",
       "      <th>gender</th>\n",
       "      <th>abroad</th>\n",
       "      <th>contact_with_covid_object</th>\n",
       "      <th>contact_with_covid_patient</th>\n",
       "      <th>corona_result</th>\n",
       "    </tr>\n",
       "  </thead>\n",
       "  <tbody>\n",
       "    <tr>\n",
       "      <th>0</th>\n",
       "      <td>2020</td>\n",
       "      <td>11</td>\n",
       "      <td>12</td>\n",
       "      <td>0</td>\n",
       "      <td>0</td>\n",
       "      <td>0</td>\n",
       "      <td>0</td>\n",
       "      <td>0</td>\n",
       "      <td>0</td>\n",
       "      <td>0</td>\n",
       "      <td>0</td>\n",
       "      <td>1</td>\n",
       "      <td>0</td>\n",
       "      <td>0</td>\n",
       "    </tr>\n",
       "    <tr>\n",
       "      <th>1</th>\n",
       "      <td>2020</td>\n",
       "      <td>11</td>\n",
       "      <td>12</td>\n",
       "      <td>0</td>\n",
       "      <td>1</td>\n",
       "      <td>0</td>\n",
       "      <td>0</td>\n",
       "      <td>0</td>\n",
       "      <td>0</td>\n",
       "      <td>0</td>\n",
       "      <td>0</td>\n",
       "      <td>1</td>\n",
       "      <td>0</td>\n",
       "      <td>0</td>\n",
       "    </tr>\n",
       "    <tr>\n",
       "      <th>2</th>\n",
       "      <td>2020</td>\n",
       "      <td>11</td>\n",
       "      <td>12</td>\n",
       "      <td>0</td>\n",
       "      <td>0</td>\n",
       "      <td>0</td>\n",
       "      <td>0</td>\n",
       "      <td>0</td>\n",
       "      <td>1</td>\n",
       "      <td>1</td>\n",
       "      <td>0</td>\n",
       "      <td>1</td>\n",
       "      <td>0</td>\n",
       "      <td>0</td>\n",
       "    </tr>\n",
       "    <tr>\n",
       "      <th>3</th>\n",
       "      <td>2020</td>\n",
       "      <td>11</td>\n",
       "      <td>12</td>\n",
       "      <td>0</td>\n",
       "      <td>1</td>\n",
       "      <td>0</td>\n",
       "      <td>0</td>\n",
       "      <td>0</td>\n",
       "      <td>0</td>\n",
       "      <td>0</td>\n",
       "      <td>0</td>\n",
       "      <td>0</td>\n",
       "      <td>1</td>\n",
       "      <td>0</td>\n",
       "    </tr>\n",
       "    <tr>\n",
       "      <th>4</th>\n",
       "      <td>2020</td>\n",
       "      <td>11</td>\n",
       "      <td>12</td>\n",
       "      <td>1</td>\n",
       "      <td>0</td>\n",
       "      <td>0</td>\n",
       "      <td>0</td>\n",
       "      <td>0</td>\n",
       "      <td>0</td>\n",
       "      <td>0</td>\n",
       "      <td>0</td>\n",
       "      <td>1</td>\n",
       "      <td>0</td>\n",
       "      <td>0</td>\n",
       "    </tr>\n",
       "  </tbody>\n",
       "</table>\n",
       "</div>"
      ],
      "text/plain": [
       "   year  month  day  cough  fever  sore_throat  shortness_of_breath  \\\n",
       "0  2020     11   12      0      0            0                    0   \n",
       "1  2020     11   12      0      1            0                    0   \n",
       "2  2020     11   12      0      0            0                    0   \n",
       "3  2020     11   12      0      1            0                    0   \n",
       "4  2020     11   12      1      0            0                    0   \n",
       "\n",
       "   head_ache  age_60_and_above  gender  abroad  contact_with_covid_object  \\\n",
       "0          0                 0       0       0                          1   \n",
       "1          0                 0       0       0                          1   \n",
       "2          0                 1       1       0                          1   \n",
       "3          0                 0       0       0                          0   \n",
       "4          0                 0       0       0                          1   \n",
       "\n",
       "   contact_with_covid_patient  corona_result  \n",
       "0                           0              0  \n",
       "1                           0              0  \n",
       "2                           0              0  \n",
       "3                           1              0  \n",
       "4                           0              0  "
      ]
     },
     "execution_count": 2,
     "metadata": {},
     "output_type": "execute_result"
    }
   ],
   "source": [
    "manipulated_data=pd.read_csv(\"/kaggle/input/mp-data-visualization/manipulated_data.csv\")\n",
    "manipulated_data.head()"
   ]
  },
  {
   "cell_type": "code",
   "execution_count": 3,
   "id": "egyptian-pottery",
   "metadata": {
    "execution": {
     "iopub.execute_input": "2021-06-27T11:47:53.426163Z",
     "iopub.status.busy": "2021-06-27T11:47:53.425378Z",
     "iopub.status.idle": "2021-06-27T11:47:53.445087Z",
     "shell.execute_reply": "2021-06-27T11:47:53.445648Z",
     "shell.execute_reply.started": "2021-06-27T11:47:00.714774Z"
    },
    "papermill": {
     "duration": 0.03972,
     "end_time": "2021-06-27T11:47:53.445819",
     "exception": false,
     "start_time": "2021-06-27T11:47:53.406099",
     "status": "completed"
    },
    "tags": []
   },
   "outputs": [
    {
     "name": "stdout",
     "output_type": "stream",
     "text": [
      "<class 'pandas.core.frame.DataFrame'>\n",
      "RangeIndex: 42916 entries, 0 to 42915\n",
      "Data columns (total 14 columns):\n",
      " #   Column                      Non-Null Count  Dtype\n",
      "---  ------                      --------------  -----\n",
      " 0   year                        42916 non-null  int64\n",
      " 1   month                       42916 non-null  int64\n",
      " 2   day                         42916 non-null  int64\n",
      " 3   cough                       42916 non-null  int64\n",
      " 4   fever                       42916 non-null  int64\n",
      " 5   sore_throat                 42916 non-null  int64\n",
      " 6   shortness_of_breath         42916 non-null  int64\n",
      " 7   head_ache                   42916 non-null  int64\n",
      " 8   age_60_and_above            42916 non-null  int64\n",
      " 9   gender                      42916 non-null  int64\n",
      " 10  abroad                      42916 non-null  int64\n",
      " 11  contact_with_covid_object   42916 non-null  int64\n",
      " 12  contact_with_covid_patient  42916 non-null  int64\n",
      " 13  corona_result               42916 non-null  int64\n",
      "dtypes: int64(14)\n",
      "memory usage: 4.6 MB\n"
     ]
    }
   ],
   "source": [
    "manipulated_data.info()"
   ]
  },
  {
   "cell_type": "markdown",
   "id": "common-ceremony",
   "metadata": {
    "papermill": {
     "duration": 0.014922,
     "end_time": "2021-06-27T11:47:53.476233",
     "exception": false,
     "start_time": "2021-06-27T11:47:53.461311",
     "status": "completed"
    },
    "tags": []
   },
   "source": [
    "### Chi-Square Test for Feature Selection"
   ]
  },
  {
   "cell_type": "markdown",
   "id": "hired-married",
   "metadata": {
    "papermill": {
     "duration": 0.014859,
     "end_time": "2021-06-27T11:47:53.506315",
     "exception": false,
     "start_time": "2021-06-27T11:47:53.491456",
     "status": "completed"
    },
    "tags": []
   },
   "source": [
    "![Chi- square score](https://media.geeksforgeeks.org/wp-content/uploads/Capture-214.png)"
   ]
  },
  {
   "cell_type": "markdown",
   "id": "addressed-multimedia",
   "metadata": {
    "papermill": {
     "duration": 0.014859,
     "end_time": "2021-06-27T11:47:53.536746",
     "exception": false,
     "start_time": "2021-06-27T11:47:53.521887",
     "status": "completed"
    },
    "tags": []
   },
   "source": [
    "> **1.** **Observed frequency** = No. of observations of class\n",
    ">\n",
    "> **2.** **Expected frequency** = No. of expected observations of class if there was no relationship between the feature and the target."
   ]
  },
  {
   "cell_type": "markdown",
   "id": "scheduled-frost",
   "metadata": {
    "papermill": {
     "duration": 0.015133,
     "end_time": "2021-06-27T11:47:53.567305",
     "exception": false,
     "start_time": "2021-06-27T11:47:53.552172",
     "status": "completed"
    },
    "tags": []
   },
   "source": [
    "#### Dropping Features 'month','day' and 'year'"
   ]
  },
  {
   "cell_type": "code",
   "execution_count": 4,
   "id": "closing-reference",
   "metadata": {
    "execution": {
     "iopub.execute_input": "2021-06-27T11:47:53.606339Z",
     "iopub.status.busy": "2021-06-27T11:47:53.602958Z",
     "iopub.status.idle": "2021-06-27T11:47:53.609471Z",
     "shell.execute_reply": "2021-06-27T11:47:53.608940Z",
     "shell.execute_reply.started": "2021-06-27T11:47:00.729024Z"
    },
    "papermill": {
     "duration": 0.026872,
     "end_time": "2021-06-27T11:47:53.609632",
     "exception": false,
     "start_time": "2021-06-27T11:47:53.582760",
     "status": "completed"
    },
    "tags": []
   },
   "outputs": [],
   "source": [
    "manipulated_data.drop(columns=['month','day','year'],inplace=True)"
   ]
  },
  {
   "cell_type": "markdown",
   "id": "strategic-circus",
   "metadata": {
    "papermill": {
     "duration": 0.015183,
     "end_time": "2021-06-27T11:47:53.640340",
     "exception": false,
     "start_time": "2021-06-27T11:47:53.625157",
     "status": "completed"
    },
    "tags": []
   },
   "source": [
    "> #### Since its categorical data chi-square test is more preferable"
   ]
  },
  {
   "cell_type": "markdown",
   "id": "handled-strand",
   "metadata": {
    "papermill": {
     "duration": 0.015229,
     "end_time": "2021-06-27T11:47:53.671059",
     "exception": false,
     "start_time": "2021-06-27T11:47:53.655830",
     "status": "completed"
    },
    "tags": []
   },
   "source": [
    "### Creating Function of Chi-Square test"
   ]
  },
  {
   "cell_type": "code",
   "execution_count": 5,
   "id": "transparent-ribbon",
   "metadata": {
    "execution": {
     "iopub.execute_input": "2021-06-27T11:47:53.711716Z",
     "iopub.status.busy": "2021-06-27T11:47:53.710015Z",
     "iopub.status.idle": "2021-06-27T11:47:54.569545Z",
     "shell.execute_reply": "2021-06-27T11:47:54.570117Z",
     "shell.execute_reply.started": "2021-06-27T11:47:00.782200Z"
    },
    "papermill": {
     "duration": 0.883982,
     "end_time": "2021-06-27T11:47:54.570298",
     "exception": false,
     "start_time": "2021-06-27T11:47:53.686316",
     "status": "completed"
    },
    "tags": []
   },
   "outputs": [],
   "source": [
    "import scipy.stats as stats\n",
    "from scipy.stats import chi2_contingency\n",
    "\n",
    "imp_var=[]\n",
    "h=dict()\n",
    "u=dict()\n",
    "unimp_var=[]\n",
    "\n",
    "class ChiSquare:\n",
    "    def __init__(self, dataframe):\n",
    "        self.df = dataframe\n",
    "        self.p = None #This is The P-Value\n",
    "        self.chi2 = None #Here we go for Chi Test Statistic\n",
    "        self.dof = None\n",
    "        \n",
    "        self.dfTabular = None\n",
    "        self.dfExpected = None\n",
    "        \n",
    "    def _print_chisquare_result(self, colX, alpha):\n",
    "        if self.p<alpha:\n",
    "          h[colX]=self.p\n",
    "        else:\n",
    "          unimp_var.append(colX)\n",
    "          u[colX]=self.p\n",
    "            \n",
    "    def TestIndependence(self,colX,colY, alpha=0.05):\n",
    "        X = self.df[colX].astype(str)\n",
    "        Y = self.df[colY].astype(str)\n",
    "        \n",
    "        self.dfObserved = pd.crosstab(Y,X) \n",
    "        chi2, p, dof, expected = stats.chi2_contingency(self.dfObserved.values)\n",
    "        self.p = p\n",
    "        self.chi2 = chi2\n",
    "        self.dof = dof \n",
    "        \n",
    "        self.dfExpected = pd.DataFrame(expected, columns=self.dfObserved.columns, index = self.dfObserved.index)\n",
    "        \n",
    "        self._print_chisquare_result(colX, alpha)"
   ]
  },
  {
   "cell_type": "markdown",
   "id": "particular-effectiveness",
   "metadata": {
    "papermill": {
     "duration": 0.015289,
     "end_time": "2021-06-27T11:47:54.601278",
     "exception": false,
     "start_time": "2021-06-27T11:47:54.585989",
     "status": "completed"
    },
    "tags": []
   },
   "source": [
    "### Applying Feature Selection on Manipulated Data"
   ]
  },
  {
   "cell_type": "code",
   "execution_count": 6,
   "id": "flexible-mobile",
   "metadata": {
    "execution": {
     "iopub.execute_input": "2021-06-27T11:47:54.635663Z",
     "iopub.status.busy": "2021-06-27T11:47:54.635021Z",
     "iopub.status.idle": "2021-06-27T11:47:55.984424Z",
     "shell.execute_reply": "2021-06-27T11:47:55.983773Z",
     "shell.execute_reply.started": "2021-06-27T11:47:00.815199Z"
    },
    "papermill": {
     "duration": 1.367732,
     "end_time": "2021-06-27T11:47:55.984581",
     "exception": false,
     "start_time": "2021-06-27T11:47:54.616849",
     "status": "completed"
    },
    "tags": []
   },
   "outputs": [],
   "source": [
    "cT = ChiSquare(manipulated_data)\n",
    "testColumns = manipulated_data.drop(columns=['corona_result']).columns\n",
    "\n",
    "for var in testColumns:\n",
    "    cT.TestIndependence(colX=var,colY=\"corona_result\" )  "
   ]
  },
  {
   "cell_type": "markdown",
   "id": "colored-kentucky",
   "metadata": {
    "papermill": {
     "duration": 0.016184,
     "end_time": "2021-06-27T11:47:56.016676",
     "exception": false,
     "start_time": "2021-06-27T11:47:56.000492",
     "status": "completed"
    },
    "tags": []
   },
   "source": [
    "### Lets Check For Important and Unimporatant Features"
   ]
  },
  {
   "cell_type": "code",
   "execution_count": 7,
   "id": "bottom-background",
   "metadata": {
    "execution": {
     "iopub.execute_input": "2021-06-27T11:47:56.065338Z",
     "iopub.status.busy": "2021-06-27T11:47:56.064304Z",
     "iopub.status.idle": "2021-06-27T11:47:56.068866Z",
     "shell.execute_reply": "2021-06-27T11:47:56.068216Z",
     "shell.execute_reply.started": "2021-06-27T11:47:01.558996Z"
    },
    "papermill": {
     "duration": 0.036257,
     "end_time": "2021-06-27T11:47:56.069003",
     "exception": false,
     "start_time": "2021-06-27T11:47:56.032746",
     "status": "completed"
    },
    "tags": []
   },
   "outputs": [
    {
     "data": {
      "text/html": [
       "<div>\n",
       "<style scoped>\n",
       "    .dataframe tbody tr th:only-of-type {\n",
       "        vertical-align: middle;\n",
       "    }\n",
       "\n",
       "    .dataframe tbody tr th {\n",
       "        vertical-align: top;\n",
       "    }\n",
       "\n",
       "    .dataframe thead th {\n",
       "        text-align: right;\n",
       "    }\n",
       "</style>\n",
       "<table border=\"1\" class=\"dataframe\">\n",
       "  <thead>\n",
       "    <tr style=\"text-align: right;\">\n",
       "      <th></th>\n",
       "      <th>Important Variables</th>\n",
       "      <th>Unimportant Variables</th>\n",
       "    </tr>\n",
       "  </thead>\n",
       "  <tbody>\n",
       "    <tr>\n",
       "      <th>0</th>\n",
       "      <td>abroad</td>\n",
       "      <td>gender</td>\n",
       "    </tr>\n",
       "    <tr>\n",
       "      <th>1</th>\n",
       "      <td>shortness_of_breath</td>\n",
       "      <td></td>\n",
       "    </tr>\n",
       "    <tr>\n",
       "      <th>2</th>\n",
       "      <td>head_ache</td>\n",
       "      <td></td>\n",
       "    </tr>\n",
       "    <tr>\n",
       "      <th>3</th>\n",
       "      <td>sore_throat</td>\n",
       "      <td></td>\n",
       "    </tr>\n",
       "    <tr>\n",
       "      <th>4</th>\n",
       "      <td>age_60_and_above</td>\n",
       "      <td></td>\n",
       "    </tr>\n",
       "    <tr>\n",
       "      <th>5</th>\n",
       "      <td>contact_with_covid_object</td>\n",
       "      <td></td>\n",
       "    </tr>\n",
       "    <tr>\n",
       "      <th>6</th>\n",
       "      <td>contact_with_covid_patient</td>\n",
       "      <td></td>\n",
       "    </tr>\n",
       "    <tr>\n",
       "      <th>7</th>\n",
       "      <td>fever</td>\n",
       "      <td></td>\n",
       "    </tr>\n",
       "    <tr>\n",
       "      <th>8</th>\n",
       "      <td>cough</td>\n",
       "      <td></td>\n",
       "    </tr>\n",
       "  </tbody>\n",
       "</table>\n",
       "</div>"
      ],
      "text/plain": [
       "          Important Variables Unimportant Variables\n",
       "0                      abroad                gender\n",
       "1         shortness_of_breath                      \n",
       "2                   head_ache                      \n",
       "3                 sore_throat                      \n",
       "4            age_60_and_above                      \n",
       "5   contact_with_covid_object                      \n",
       "6  contact_with_covid_patient                      \n",
       "7                       fever                      \n",
       "8                       cough                      "
      ]
     },
     "execution_count": 7,
     "metadata": {},
     "output_type": "execute_result"
    }
   ],
   "source": [
    "imp=pd.DataFrame()\n",
    "m = sorted(h.items(), key=lambda x: x[1], reverse=False)\n",
    "for i in range(len(m)):\n",
    "  imp_var.append(m[i][0])\n",
    "if(len(imp_var)>len(unimp_var)):\n",
    "  for i in range(len(imp_var)-len(unimp_var)):\n",
    "    unimp_var.append(\"\")\n",
    "else:\n",
    "  for i in range(len(unimp_var)-len(imp_var)):\n",
    "    imp_var.append(\"\")\n",
    "imp['Important Variables']=imp_var\n",
    "imp['Unimportant Variables']=unimp_var\n",
    "imp"
   ]
  },
  {
   "cell_type": "markdown",
   "id": "deluxe-sweet",
   "metadata": {
    "papermill": {
     "duration": 0.016028,
     "end_time": "2021-06-27T11:47:56.101224",
     "exception": false,
     "start_time": "2021-06-27T11:47:56.085196",
     "status": "completed"
    },
    "tags": []
   },
   "source": [
    "### Removing Unimportant Features"
   ]
  },
  {
   "cell_type": "code",
   "execution_count": 8,
   "id": "continental-silence",
   "metadata": {
    "execution": {
     "iopub.execute_input": "2021-06-27T11:47:56.143839Z",
     "iopub.status.busy": "2021-06-27T11:47:56.143094Z",
     "iopub.status.idle": "2021-06-27T11:47:56.156461Z",
     "shell.execute_reply": "2021-06-27T11:47:56.157208Z",
     "shell.execute_reply.started": "2021-06-27T11:47:01.575010Z"
    },
    "papermill": {
     "duration": 0.039626,
     "end_time": "2021-06-27T11:47:56.157430",
     "exception": false,
     "start_time": "2021-06-27T11:47:56.117804",
     "status": "completed"
    },
    "tags": []
   },
   "outputs": [
    {
     "name": "stdout",
     "output_type": "stream",
     "text": [
      "<class 'pandas.core.frame.DataFrame'>\n",
      "RangeIndex: 42916 entries, 0 to 42915\n",
      "Data columns (total 10 columns):\n",
      " #   Column                      Non-Null Count  Dtype\n",
      "---  ------                      --------------  -----\n",
      " 0   cough                       42916 non-null  int64\n",
      " 1   fever                       42916 non-null  int64\n",
      " 2   sore_throat                 42916 non-null  int64\n",
      " 3   shortness_of_breath         42916 non-null  int64\n",
      " 4   head_ache                   42916 non-null  int64\n",
      " 5   age_60_and_above            42916 non-null  int64\n",
      " 6   abroad                      42916 non-null  int64\n",
      " 7   contact_with_covid_object   42916 non-null  int64\n",
      " 8   contact_with_covid_patient  42916 non-null  int64\n",
      " 9   corona_result               42916 non-null  int64\n",
      "dtypes: int64(10)\n",
      "memory usage: 3.3 MB\n"
     ]
    }
   ],
   "source": [
    "manipulated_data.drop(['gender'],axis=1,inplace=True)\n",
    "manipulated_data.info()"
   ]
  },
  {
   "cell_type": "markdown",
   "id": "greenhouse-homework",
   "metadata": {
    "papermill": {
     "duration": 0.016115,
     "end_time": "2021-06-27T11:47:56.190242",
     "exception": false,
     "start_time": "2021-06-27T11:47:56.174127",
     "status": "completed"
    },
    "tags": []
   },
   "source": [
    "### Output CSV"
   ]
  },
  {
   "cell_type": "code",
   "execution_count": 9,
   "id": "handled-forth",
   "metadata": {
    "execution": {
     "iopub.execute_input": "2021-06-27T11:47:56.228423Z",
     "iopub.status.busy": "2021-06-27T11:47:56.227374Z",
     "iopub.status.idle": "2021-06-27T11:47:56.364119Z",
     "shell.execute_reply": "2021-06-27T11:47:56.364705Z",
     "shell.execute_reply.started": "2021-06-27T11:47:01.592800Z"
    },
    "papermill": {
     "duration": 0.158277,
     "end_time": "2021-06-27T11:47:56.364904",
     "exception": false,
     "start_time": "2021-06-27T11:47:56.206627",
     "status": "completed"
    },
    "tags": []
   },
   "outputs": [],
   "source": [
    "manipulated_data.to_csv(\"fs_data.csv\",index=False)"
   ]
  },
  {
   "cell_type": "markdown",
   "id": "alone-perfume",
   "metadata": {
    "papermill": {
     "duration": 0.015838,
     "end_time": "2021-06-27T11:47:56.396903",
     "exception": false,
     "start_time": "2021-06-27T11:47:56.381065",
     "status": "completed"
    },
    "tags": []
   },
   "source": [
    "### Conclusions\n",
    "\n",
    "> 1. *Since The Data was Categorical so we have used Chi-Sqaure Test For Feature Selection.*\n",
    "> 2. *After performing chi square test, non-important feature stated was: gender*"
   ]
  }
 ],
 "metadata": {
  "kernelspec": {
   "display_name": "Python 3",
   "language": "python",
   "name": "python3"
  },
  "language_info": {
   "codemirror_mode": {
    "name": "ipython",
    "version": 3
   },
   "file_extension": ".py",
   "mimetype": "text/x-python",
   "name": "python",
   "nbconvert_exporter": "python",
   "pygments_lexer": "ipython3",
   "version": "3.7.10"
  },
  "papermill": {
   "default_parameters": {},
   "duration": 12.871874,
   "end_time": "2021-06-27T11:47:57.718334",
   "environment_variables": {},
   "exception": null,
   "input_path": "__notebook__.ipynb",
   "output_path": "__notebook__.ipynb",
   "parameters": {},
   "start_time": "2021-06-27T11:47:44.846460",
   "version": "2.3.3"
  }
 },
 "nbformat": 4,
 "nbformat_minor": 5
}
